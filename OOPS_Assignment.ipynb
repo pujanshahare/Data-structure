{
  "nbformat": 4,
  "nbformat_minor": 0,
  "metadata": {
    "colab": {
      "provenance": []
    },
    "kernelspec": {
      "name": "python3",
      "display_name": "Python 3"
    },
    "language_info": {
      "name": "python"
    }
  },
  "cells": [
    {
      "cell_type": "markdown",
      "source": [
        "**OOP** **ASSIGNMENT'S** **QUESTION**"
      ],
      "metadata": {
        "id": "Hj_xdulwaRuQ"
      }
    },
    {
      "cell_type": "markdown",
      "source": [
        "**Q.1 What is Object-Oriented Programming (OOP)?**\n",
        "\n",
        " *Answer* -  Object-Oriented Programming (OOP) is a method that revolves around the concept of objects and classes. it emphasizes modularity, reusablity, and abstraction, making it easiear to write efficient and maintainable code.  \n"
      ],
      "metadata": {
        "id": "kDZ5KBmZada2"
      }
    },
    {
      "cell_type": "markdown",
      "source": [
        "**Q.2 What is a Class in OOP?**\n",
        "\n",
        "*Answer -* A Class in OOP is a blueprint or template that define the properties and behavior of an object."
      ],
      "metadata": {
        "id": "JqIO16q8b5xn"
      }
    },
    {
      "cell_type": "markdown",
      "source": [
        "**Q.3 What is an object in OOP?**\n",
        "\n",
        "*Answer* - An object in OOP is an instance of a class represting real-world entities with it own set of attribute(data) and methods \"(function). Object have their own state and behavior, which are defined by class."
      ],
      "metadata": {
        "id": "8P8qZ3Mlci0p"
      }
    },
    {
      "cell_type": "markdown",
      "source": [
        "**Q.4 What is difference between abstraction and encapsulation?**\n",
        "\n",
        "*Answer*\n",
        "**Abstraction** - it's a method of hiding detail and showing only the necessary information to the outside world.\n",
        "\n",
        "**Encapsulation** - it's concept of bundling data and method that operate on the data and method that operate on dat awithin a single unit, making it harder for other part of program to access and modify them directly.\n"
      ],
      "metadata": {
        "id": "E7IUNx6zeFWJ"
      }
    },
    {
      "cell_type": "markdown",
      "source": [
        "**Q.5 What are Dunder methods in python?**\n",
        "\n",
        "*Answer *- Dunder methods sortb of \"double underscore\" methods, are special methods in python classes that start and end with double underscores (e.g., __init__ , __str__ , __repr__)."
      ],
      "metadata": {
        "id": "KlDCKTm5bv0K"
      }
    },
    {
      "cell_type": "markdown",
      "source": [
        "**Q.6 Explain the concept of inheritence in OOP?**\n",
        "\n",
        "*Answer* - Inheritence is a mechanism in OOP where child class (subclass) inherits the properties and behavior of parent class (superclass). The child class can also add new attributes and methods and override to one inherited from parent class."
      ],
      "metadata": {
        "id": "Vp0s4KVmm8Sw"
      }
    },
    {
      "cell_type": "markdown",
      "source": [
        "**Q.7 What is polymorphism in OOP?**\n",
        "\n",
        "*Answer* -    Polymorphism is the ability of an object to take on multiple forms, depending on the context in which it is used. this can be acheived through method overriding or method overloading, whwre object of differnt classes can be traeted as object of common superclass."
      ],
      "metadata": {
        "id": "E_dHsC_DoZcA"
      }
    },
    {
      "cell_type": "markdown",
      "source": [
        "**Q.8 How enacpsulation acheived in Python?**\n",
        "\n",
        "*Answer* - Encapsulaton in Python is acheived by using private variable (prefixed with double underscore) and public method to access and modify them."
      ],
      "metadata": {
        "id": "jN0WDGLtwLhd"
      }
    },
    {
      "cell_type": "markdown",
      "source": [
        "**Q.9 What is constructor in python?**\n",
        "\n",
        "*Answer* - A consttructor in python is a special method (__init__) that is called when an object is created from a class. It initialize the attribute of class and set an initial state of object."
      ],
      "metadata": {
        "id": "PttsO6NkxM-6"
      }
    },
    {
      "cell_type": "markdown",
      "source": [
        "**Q.10 What are class and static method in python?**\n",
        "\n",
        "*Answer* - Class methods are methods that are bound to the class rather than the instance of class. they can access or modify class state. Static method on the other hand, are method that belong to a class rather than an instance of class. they can not access or modify class state."
      ],
      "metadata": {
        "id": "gEmGLNXqyzif"
      }
    },
    {
      "cell_type": "markdown",
      "source": [
        "**Q.11 What are method overloading in pyhton?**\n",
        "\n",
        "*Answer* - Method overloading not directlty supported  in pyhton. It can be acheived using optional argument or by *args* or *kwargs* syntax to paas variable member of argument to a method."
      ],
      "metadata": {
        "id": "bajqghOh0MhP"
      }
    },
    {
      "cell_type": "markdown",
      "source": [
        "**Q.12 What is method overiding iin pyhton**\n",
        "\n",
        "*Answer* - Method overriding is a feature in a OOP where a subclass provides a different implementation of a method that is already defined in its sperclass. The method in subclass has the same name, return type, and parameter list as the method in superclass."
      ],
      "metadata": {
        "id": "rYkzljZS4As4"
      }
    },
    {
      "cell_type": "markdown",
      "source": [
        "**Q.13 What is property decorator in python?**\n",
        "\n",
        "*Answer* - A property decorator in pyhton is a way to customize access to instance data. It allow you to implement gettter, Setter, and deleter functionality for instance variables using the property @property decorator."
      ],
      "metadata": {
        "id": "NLku8WNf5An8"
      }
    },
    {
      "cell_type": "markdown",
      "source": [
        "**Q.14 Why is polymorphism important in OOP?**\n",
        "\n",
        "*Answer* - Polymorphism is important in OOP beacuse it allow for more flexiblity and generic code. It enable us to write code that can work with different data types, making it more reusable and maintainable."
      ],
      "metadata": {
        "id": "s-lcObXm6Suc"
      }
    },
    {
      "cell_type": "markdown",
      "source": [
        "**Q.15 What is abstract class in python?**\n",
        "\n",
        "*Answer* - An abstract class in python is a class that can not be instantiated on its own and is designed to bw inherited by other classes. it can contain both abstract methods {method declaed but not impllemented) and concrete methods (method with implementation)"
      ],
      "metadata": {
        "id": "LaZfWbHY7Q8E"
      }
    },
    {
      "cell_type": "markdown",
      "source": [
        " **Q.16 What are advantages of OOP?**\n",
        "\n",
        "*Answer*\n",
        "\n",
        "*   **Modularity** - OOP promote modular code that is easier to maintain and modify\n",
        "\n",
        "*   **Rusablity** - OOP enables code reuse through inheritence and polymorphism.\n",
        "\n",
        "*   **Abstraction** - OOP helpsto abstract away implementation details, making code more manageable.\n",
        "\n",
        "*   **Encapsulation** - OOP encapsulates data aand behavior, making it harder for otherr part of program to access or modify them.\n",
        "\n"
      ],
      "metadata": {
        "id": "rBulDyDM8f8D"
      }
    },
    {
      "cell_type": "markdown",
      "source": [
        "**Q.17 What is the difference between class varialble and instance variable?**\n",
        "\n",
        "*Answer* - A class variable is shared by all the instance of class, whereas an instance variable is unique to each instance. Class variable are defined outside any method and are accessed using the class name or instance, while instance variables are defined inside method and are accessed using instance.\n",
        "\n",
        "Example:"
      ],
      "metadata": {
        "id": "8G26nfZKLxXX"
      }
    },
    {
      "cell_type": "code",
      "source": [
        "class MyClass:\n",
        "  class_var = \"I m a class variable\"\n",
        "  def __init__(self):\n",
        "    self.instance_var = \"I m an instance variable\"\n",
        "\n",
        "obj1 = MyClass()\n",
        "obj2 = MyClass()\n",
        "\n",
        "print(obj1.class_var)\n",
        "print(obj2.class_var)\n",
        "print(obj1.instance_var)\n",
        "print(obj2.instance_var)\n",
        "\n",
        "MyClass.class_var = \"I m a new class variable\"\n",
        "\n",
        "print(obj1.class_var)\n",
        "print(obj2.class_var)"
      ],
      "metadata": {
        "colab": {
          "base_uri": "https://localhost:8080/"
        },
        "id": "eKC8WI7UNys2",
        "outputId": "cccd9309-9404-41e3-e401-accd122cab79"
      },
      "execution_count": null,
      "outputs": [
        {
          "output_type": "stream",
          "name": "stdout",
          "text": [
            "I m a class variable\n",
            "I m a class variable\n",
            "I m an instance variable\n",
            "I m an instance variable\n",
            "I m a new class variable\n",
            "I m a new class variable\n"
          ]
        }
      ]
    },
    {
      "cell_type": "markdown",
      "source": [
        "**Q.18 What is multiple inheritence in python?**\n",
        "\n",
        "*Answer* - Multiple inheritence in python allows a class to inherit attributes and method from more than one parent class. This is acheived by listing multiple parent classes in class definition.\n",
        "\n",
        "Example:"
      ],
      "metadata": {
        "id": "JIVPA5kEPSmw"
      }
    },
    {
      "cell_type": "code",
      "source": [
        "class Parent1:\n",
        "  def method1 (self):\n",
        "    print (\"Method of parent1\")\n",
        "\n",
        "class Parent2:\n",
        "  def method2 (self):\n",
        "    print (\"Method of parent2\")\n",
        "\n",
        "class Child(Parent1, Parent2):\n",
        "  pass\n",
        "\n",
        "obj = Child()\n",
        "obj.method1()\n",
        "obj.method2()"
      ],
      "metadata": {
        "colab": {
          "base_uri": "https://localhost:8080/"
        },
        "id": "CXY8d6mkQO6I",
        "outputId": "a93ffa1d-005a-40fc-a3f0-6d655a5f80a0"
      },
      "execution_count": null,
      "outputs": [
        {
          "output_type": "stream",
          "name": "stdout",
          "text": [
            "Method of parent1\n",
            "Method of parent2\n"
          ]
        }
      ]
    },
    {
      "cell_type": "markdown",
      "source": [
        "**Q.19 Explain the method of _ _str_ _ and _ _repr_ _ methods in python?**\n",
        "\n",
        "*Answer* - The _ _str_ _ methods returns a human-reaable string representation of an object, while the repr method returns a string that could be use to recreate the object.\n",
        "\n",
        "Example:"
      ],
      "metadata": {
        "id": "ybGUC0ptQ3Wq"
      }
    },
    {
      "cell_type": "code",
      "source": [
        "class person:\n",
        "  def __init__(self, name, age):\n",
        "    self.name = name\n",
        "    self.age = age\n",
        "\n",
        "  def __str__(self):\n",
        "    return f\"{self.name} is {self.age} years old\"\n",
        "  def __repr__(self):\n",
        "    return f\"person('{self.name}', {self.age})\"\n",
        "\n",
        "person1 = person(\"pujan\", 21)\n",
        "print(person1)\n",
        "print(repr(person1))"
      ],
      "metadata": {
        "colab": {
          "base_uri": "https://localhost:8080/"
        },
        "id": "TCQCkYznSNEd",
        "outputId": "156ffb80-8a8a-48d5-ed8c-c13f090a3735"
      },
      "execution_count": null,
      "outputs": [
        {
          "output_type": "stream",
          "name": "stdout",
          "text": [
            "pujan is 21 years old\n",
            "person('pujan', 21)\n"
          ]
        }
      ]
    },
    {
      "cell_type": "markdown",
      "source": [
        "**Q.20 What is significance of the super() function in python?**\n",
        "\n",
        "*Answer* - The super() function is used to access method and attributes of parent classes in a child class. It allows for method overriding and method extension.\n",
        "\n",
        "Example:"
      ],
      "metadata": {
        "id": "-SQel6_Xdeca"
      }
    },
    {
      "cell_type": "code",
      "source": [
        "class Animal:\n",
        "  def sound(self):\n",
        "    print(\"The Animal makes a sound\")\n",
        "class Dog(Animal):\n",
        "  def sound(self):\n",
        "    super().sound()\n",
        "    print(\"The Dog barks\")\n",
        "\n",
        "dog = Dog()\n",
        "dog.sound()"
      ],
      "metadata": {
        "colab": {
          "base_uri": "https://localhost:8080/"
        },
        "id": "teAw3frWeRc1",
        "outputId": "c95f3cec-dd81-469d-cb0f-e9c21e596f4e"
      },
      "execution_count": null,
      "outputs": [
        {
          "output_type": "stream",
          "name": "stdout",
          "text": [
            "The Animal makes a sound\n",
            "The Dog barks\n"
          ]
        }
      ]
    },
    {
      "cell_type": "markdown",
      "source": [
        "**Q.21 What is the significance of the _ _del_ _ method in Python?**\n",
        "\n",
        "*Answer* - The _ _del_ _ method is a special method that is called when an object is about to be destroyed. It is used to release resources and perform cleanup tasks.\n",
        "\n",
        "Example:"
      ],
      "metadata": {
        "id": "uBdNCTMNe5mC"
      }
    },
    {
      "cell_type": "code",
      "source": [
        "class FileHandler:\n",
        "    def __init__(self, filename):\n",
        "        self.filename = filename\n",
        "        self.file = open(filename, \"w\")\n",
        "\n",
        "    def close(self):\n",
        "        if self.file:\n",
        "            self.file.close()\n",
        "            print(f\"File {self.filename} closed\")\n",
        "            self.file = None\n",
        "\n",
        "    def __del__(self):\n",
        "        self.close()\n",
        "\n",
        "file_handler = FileHandler(\"example.txt\")\n",
        "file_handler.close()\n",
        "del file_handler\n"
      ],
      "metadata": {
        "colab": {
          "base_uri": "https://localhost:8080/"
        },
        "id": "DFIgdCB_gJiM",
        "outputId": "467e2e43-36c0-4dd4-cbe5-42b6e3954523"
      },
      "execution_count": null,
      "outputs": [
        {
          "output_type": "stream",
          "name": "stdout",
          "text": [
            "File example.txt closed\n"
          ]
        }
      ]
    },
    {
      "cell_type": "markdown",
      "source": [
        "**Q.22 What is the difference between static method and class method in python?**\n",
        "\n",
        "*Answer* - A static method is a method that belongs to a class rather than an instance, and it does not have access to the class or instance attributes. A class method is a method that belong to a class rather than instance, and it has access to the class attributes.\n",
        "\n",
        "Example:"
      ],
      "metadata": {
        "id": "s72pcNSKiGq9"
      }
    },
    {
      "cell_type": "code",
      "source": [
        "class MyClass:\n",
        "  class_var = \"I'm a class variable\"\n",
        "  @staticmethod\n",
        "  def static_method():\n",
        "    print(\"I'm a static method\")\n",
        "\n",
        "  @classmethod\n",
        "  def class_method(cls):\n",
        "    print(\"I'm a class method\")\n",
        "\n",
        "MyClass.static_method()\n",
        "MyClass.class_method()"
      ],
      "metadata": {
        "colab": {
          "base_uri": "https://localhost:8080/"
        },
        "id": "-pEHmEfbi94T",
        "outputId": "174a3922-17e0-4092-c373-db1fdd40f038"
      },
      "execution_count": null,
      "outputs": [
        {
          "output_type": "stream",
          "name": "stdout",
          "text": [
            "I'm a static method\n",
            "I'm a class method\n"
          ]
        }
      ]
    },
    {
      "cell_type": "markdown",
      "source": [
        "**Q.23 How does polymorphism work in python with inheritence?**\n",
        "\n",
        "*Answer* -  Polymorphism in Python allows objects of different classes to be treated as objects of a common superclass. This is achieved through method overriding and method overloading.\n",
        "\n",
        "Example:"
      ],
      "metadata": {
        "id": "h8yJK6H7jziv"
      }
    },
    {
      "cell_type": "code",
      "source": [
        "class Shape:\n",
        "    def area(self):\n",
        "        pass\n",
        "\n",
        "class Circle(Shape):\n",
        "    def __init__(self, radius):\n",
        "        self.radius = radius\n",
        "\n",
        "    def area(self):\n",
        "        return 3.14 * self.radius * self.radius\n",
        "\n",
        "circle = Circle(5)\n",
        "print(\"Area of circle:\", circle.area())"
      ],
      "metadata": {
        "id": "6lGJ6SHAk23r",
        "colab": {
          "base_uri": "https://localhost:8080/"
        },
        "outputId": "56dd5503-f593-46ff-f874-4907d1b48d64"
      },
      "execution_count": null,
      "outputs": [
        {
          "output_type": "stream",
          "name": "stdout",
          "text": [
            "Area of circle: 78.5\n"
          ]
        }
      ]
    },
    {
      "cell_type": "markdown",
      "source": [
        "**Q.24  What is method chaining in Python OOP?**\n",
        "\n",
        "*Answer* - Method chaining in Python (and other object-oriented languages) is a programming technique where multiple methods are called on the same object in a single line, one after another. Each method in the chain returns the object itself (typically using return self), allowing the next method to be called directly."
      ],
      "metadata": {
        "id": "OXzJpa9SVqyD"
      }
    },
    {
      "cell_type": "code",
      "source": [
        "class Person:\n",
        "    def __init__(self, name=''):\n",
        "        self.name = name\n",
        "        self.age = 0\n",
        "\n",
        "    def set_name(self, name):\n",
        "        self.name = name\n",
        "        return self\n",
        "\n",
        "    def set_age(self, age):\n",
        "        self.age = age\n",
        "        return self\n",
        "\n",
        "    def greet(self):\n",
        "        print(f\"Hi, I'm {self.name} and I'm {self.age} years old.\")\n",
        "        return self\n",
        "p = Person().set_name(\"pujan\").set_age(21).greet()"
      ],
      "metadata": {
        "colab": {
          "base_uri": "https://localhost:8080/"
        },
        "id": "-Tzs_1eVZJHA",
        "outputId": "a7c2ea92-707c-40ea-be55-a166654103e6"
      },
      "execution_count": null,
      "outputs": [
        {
          "output_type": "stream",
          "name": "stdout",
          "text": [
            "Hi, I'm pujan and I'm 21 years old.\n"
          ]
        }
      ]
    },
    {
      "cell_type": "markdown",
      "source": [
        "**Q.25 What is the purpose of the __call__ method in Python?**"
      ],
      "metadata": {
        "id": "sU7wDAUMW0gU"
      }
    },
    {
      "cell_type": "markdown",
      "source": [
        "*Answer-* In Python, the __call__ method allows an instance of a class to be called as if it were a function. When you define the __call__ method in a class, instances of that class become callable objects, meaning you can use them with parentheses () and pass arguments just like a regular function.\n",
        "\n",
        "Purpose of __call__:\n",
        "Make objects behave like functions: Instances can be invoked like functions, allowing for flexible and stateful behavior.\n",
        "\n",
        "Maintain state between calls: Since the object retains its state (instance variables), it can remember data across multiple calls.\n",
        "\n",
        "Implement functors or callable objects: Useful in scenarios where an object needs to encapsulate both data and behavior, such as decorators, closures, or mathematical functions.\n",
        "\n",
        "*   Purpose of __call__:\n",
        "Make objects behave like functions: Instances can be invoked like functions, allowing for flexible and stateful behavior.\n",
        "\n",
        "*   Maintain state between calls: Since the object retains its state (instance variables), it can remember data across multiple calls.\n",
        "\n",
        "*   Implement functors or callable objects: Useful in scenarios where an object needs to encapsulate both data and behavior, such as decorators, closures, or mathematical functions."
      ],
      "metadata": {
        "id": "6BjaBjR6aOUu"
      }
    },
    {
      "cell_type": "code",
      "source": [
        "class Adder:\n",
        "    def __init__(self, initial_value=0):\n",
        "        self.value = initial_value\n",
        "\n",
        "    def __call__(self, x):\n",
        "        self.value += x\n",
        "        return self.value\n",
        "adder = Adder(20)\n",
        "print(adder(15))\n",
        "print(adder(13))"
      ],
      "metadata": {
        "colab": {
          "base_uri": "https://localhost:8080/"
        },
        "id": "SNBalZUqcQl1",
        "outputId": "35549992-609b-4a64-8cf6-32beaa97acca"
      },
      "execution_count": null,
      "outputs": [
        {
          "output_type": "stream",
          "name": "stdout",
          "text": [
            "35\n",
            "48\n"
          ]
        }
      ]
    },
    {
      "cell_type": "markdown",
      "source": [
        "# **PRACTICAL QUESTION**"
      ],
      "metadata": {
        "id": "BM6rUQXKc1Qe"
      }
    },
    {
      "cell_type": "markdown",
      "source": [
        "**Q.1 Create a parent class Animal with a method speak() that prints a generic message. Create a child class Dog\n",
        "that overrides the speak() method to print \"Bark!\".**"
      ],
      "metadata": {
        "id": "lEiK56hPdJlL"
      }
    },
    {
      "cell_type": "code",
      "source": [
        "class Animal:\n",
        "    def speak(self):\n",
        "        print(\"The animals makes a sound.\")\n",
        "\n",
        "class Dog(Animal):\n",
        "    def speak(self):\n",
        "        print(\"Bark!\")\n",
        "\n",
        "generic_animal = Animal()\n",
        "generic_animal.speak()\n",
        "\n",
        "dog = Dog()\n",
        "dog.speak()"
      ],
      "metadata": {
        "colab": {
          "base_uri": "https://localhost:8080/"
        },
        "id": "1eI-cygRelhV",
        "outputId": "8db8231b-4220-4d07-f0be-33f798e7bd8e"
      },
      "execution_count": null,
      "outputs": [
        {
          "output_type": "stream",
          "name": "stdout",
          "text": [
            "The animals makes a sound.\n",
            "Bark!\n"
          ]
        }
      ]
    },
    {
      "cell_type": "markdown",
      "source": [
        "**Q.2 Write a program to create an abstract class Shape with a method area(). Derive classes Circle and Rectangle\n",
        "from it and implement the area() method in both.**"
      ],
      "metadata": {
        "id": "hj51Ym2SfIu3"
      }
    },
    {
      "cell_type": "code",
      "source": [
        "from abc import ABC, abstractmethod\n",
        "import math\n",
        "\n",
        "class Shape(ABC):\n",
        "    @abstractmethod\n",
        "    def area(self):\n",
        "        pass\n",
        "class Circle(Shape):\n",
        "    def __init__(self, radius):\n",
        "        self.radius = radius\n",
        "\n",
        "    def area(self):\n",
        "        return math.pi * self.radius ** 2\n",
        "class Rectangle(Shape):\n",
        "    def __init__(self, width, height):\n",
        "        self.width = width\n",
        "        self.height = height\n",
        "\n",
        "    def area(self):\n",
        "        return self.width * self.height\n",
        "circle = Circle(5)\n",
        "rectangle = Rectangle(4,6)\n",
        "\n",
        "print(\"The Area of Circle:\", circle.area())\n",
        "print(\"The Area of Rectangle:\", rectangle.area())\n"
      ],
      "metadata": {
        "colab": {
          "base_uri": "https://localhost:8080/"
        },
        "id": "sx0UhErefgWo",
        "outputId": "5b3c8f2f-a4f8-4852-fc5c-f76e868a3554"
      },
      "execution_count": null,
      "outputs": [
        {
          "output_type": "stream",
          "name": "stdout",
          "text": [
            "The Area of Circle: 78.53981633974483\n",
            "The Area of Rectangle: 24\n"
          ]
        }
      ]
    },
    {
      "cell_type": "markdown",
      "source": [
        "**Q.3 Implement a multi-level inheritance scenario where a class Vehicle has an attribute type. Derive a class Car\n",
        "and further derive a class ElectricCar that adds a battery attribute.**"
      ],
      "metadata": {
        "id": "NnHEs7EKgBkh"
      }
    },
    {
      "cell_type": "code",
      "source": [
        "\n",
        "class Vehicle:\n",
        "    def __init__(self, vehicle_type):\n",
        "        self.type = vehicle_type\n",
        "\n",
        "class Car(Vehicle):\n",
        "    def __init__(self, vehicle_type, brand):\n",
        "        super().__init__(vehicle_type)\n",
        "        self.brand = brand\n",
        "\n",
        "class ElectricCar(Car):\n",
        "    def __init__(self, vehicle_type, brand, battery_capacity):\n",
        "        super().__init__(vehicle_type, brand)\n",
        "        self.battery = battery_capacity\n",
        "\n",
        "    def display_info(self):\n",
        "        print(f\"Type: {self.type}\")\n",
        "        print(f\"Brand: {self.brand}\")\n",
        "        print(f\"Battery Capacity: {self.battery} kWh\")\n",
        "\n",
        "my_electric_car = ElectricCar(\"Four Wheeler\", \"BMW\", 85)\n",
        "my_electric_car.display_info()\n"
      ],
      "metadata": {
        "colab": {
          "base_uri": "https://localhost:8080/"
        },
        "id": "kXcfiHa1gSmI",
        "outputId": "24f675d6-ac25-4414-e715-e7f83dee315e"
      },
      "execution_count": null,
      "outputs": [
        {
          "output_type": "stream",
          "name": "stdout",
          "text": [
            "Type: Four Wheeler\n",
            "Brand: BMW\n",
            "Battery Capacity: 85 kWh\n"
          ]
        }
      ]
    },
    {
      "cell_type": "markdown",
      "source": [
        "**Q.4 Demonstrate polymorphism by creating a base class Bird with a method fly(). Create two derived classes\n",
        "Sparrow and Penguin that override the fly() method.**"
      ],
      "metadata": {
        "id": "dYeuYBafgmom"
      }
    },
    {
      "cell_type": "code",
      "source": [
        "class Bird:\n",
        "    def fly(self):\n",
        "        print(\"This bird can fly.\")\n",
        "\n",
        "class Sparrow(Bird):\n",
        "    def fly(self):\n",
        "        print(\"Sparrow flies high in the sky.\")\n",
        "\n",
        "class Penguin(Bird):\n",
        "    def fly(self):\n",
        "        print(\"Penguins can't fly but can swim well.\")\n",
        "\n",
        "def show_flight(bird: Bird):\n",
        "    bird.fly()\n",
        "\n",
        "sparrow = Sparrow()\n",
        "penguin = Penguin()\n",
        "\n",
        "show_flight(sparrow)\n",
        "show_flight(penguin)\n"
      ],
      "metadata": {
        "colab": {
          "base_uri": "https://localhost:8080/"
        },
        "id": "nAj-eLkAgso7",
        "outputId": "d42ea694-e540-4d01-f1f2-fed0dc8bfa37"
      },
      "execution_count": null,
      "outputs": [
        {
          "output_type": "stream",
          "name": "stdout",
          "text": [
            "Sparrow flies high in the sky.\n",
            "Penguins can't fly but can swim well.\n"
          ]
        }
      ]
    },
    {
      "cell_type": "markdown",
      "source": [
        "**Q.5  Write a program to demonstrate encapsulation by creating a class BankAccount with private attributes\n",
        "balance and methods to deposit, withdraw, and check balance.**"
      ],
      "metadata": {
        "id": "-qF-JGHDhNom"
      }
    },
    {
      "cell_type": "code",
      "source": [
        "class BankAccount:\n",
        "    def __init__(self, initial_balance=0):\n",
        "        self.__balance = initial_balance\n",
        "\n",
        "    def deposit(self, amount):\n",
        "        if amount > 0:\n",
        "            self.__balance += amount\n",
        "            print(f\"Deposited: ${amount}\")\n",
        "        else:\n",
        "            print(\"Invalid deposit amount.\")\n",
        "\n",
        "    def withdraw(self, amount):\n",
        "        if 0 < amount <= self.__balance:\n",
        "            self.__balance -= amount\n",
        "            print(f\"Withdrawn: ${amount}\")\n",
        "        else:\n",
        "            print(\"Invalid or insufficient funds for withdrawal.\")\n",
        "\n",
        "    def check_balance(self):\n",
        "        print(f\"Current Balance: ${self.__balance}\")\n",
        "\n",
        "account = BankAccount(1000)\n",
        "account.deposit(500)\n",
        "account.withdraw(300)\n",
        "account.check_balance()\n",
        "\n"
      ],
      "metadata": {
        "colab": {
          "base_uri": "https://localhost:8080/"
        },
        "id": "Hn_4F3uVhals",
        "outputId": "c75ab97d-ba96-4548-feec-580b51458c00"
      },
      "execution_count": null,
      "outputs": [
        {
          "output_type": "stream",
          "name": "stdout",
          "text": [
            "Deposited: $500\n",
            "Withdrawn: $300\n",
            "Current Balance: $1200\n"
          ]
        }
      ]
    },
    {
      "cell_type": "markdown",
      "source": [
        "**Q.6 Demonstrate runtime polymorphism using a method play() in a base class Instrument. Derive classes Guitar\n",
        "and Piano that implement their own version of play().**"
      ],
      "metadata": {
        "id": "pEOqx5_JiBkC"
      }
    },
    {
      "cell_type": "code",
      "source": [
        "class Instrument:\n",
        "    def play(self):\n",
        "        print(\"Playing an instrument.\")\n",
        "\n",
        "class Guitar(Instrument):\n",
        "    def play(self):\n",
        "        print(\"Strumming the guitar.\")\n",
        "\n",
        "class Piano(Instrument):\n",
        "    def play(self):\n",
        "        print(\"Playing the piano.\")\n",
        "\n",
        "def perform(instrument: Instrument):\n",
        "    instrument.play()\n",
        "\n",
        "guitar = Guitar()\n",
        "piano = Piano()\n",
        "\n",
        "perform(guitar)\n",
        "perform(piano)\n"
      ],
      "metadata": {
        "colab": {
          "base_uri": "https://localhost:8080/"
        },
        "id": "eTtPPSPYiUwn",
        "outputId": "0ce28fd1-70da-4a4c-a401-7894373d7ad5"
      },
      "execution_count": null,
      "outputs": [
        {
          "output_type": "stream",
          "name": "stdout",
          "text": [
            "Strumming the guitar.\n",
            "Playing the piano.\n"
          ]
        }
      ]
    },
    {
      "cell_type": "markdown",
      "source": [
        "**Q.7 Create a class MathOperations with a class method add_numbers() to add two numbers and a static\n",
        "method subtract_numbers() to subtract two numbers.**"
      ],
      "metadata": {
        "id": "HGzfa7C7iSSI"
      }
    },
    {
      "cell_type": "code",
      "source": [
        "class MathOperations:\n",
        "    @classmethod\n",
        "    def add_numbers(cls, a, b):\n",
        "        return a + b\n",
        "\n",
        "    @staticmethod\n",
        "    def subtract_numbers(a, b):\n",
        "        return a - b\n",
        "\n",
        "sum_result = MathOperations.add_numbers(10, 5)\n",
        "difference_result = MathOperations.subtract_numbers(10, 5)\n",
        "\n",
        "print(\"Sum:\", sum_result)\n",
        "print(\"Difference:\", difference_result)\n"
      ],
      "metadata": {
        "colab": {
          "base_uri": "https://localhost:8080/"
        },
        "id": "b5cRE2DkisK8",
        "outputId": "c8c0993b-f5e8-4b28-e21d-d19aa5a1595a"
      },
      "execution_count": null,
      "outputs": [
        {
          "output_type": "stream",
          "name": "stdout",
          "text": [
            "Sum: 15\n",
            "Difference: 5\n"
          ]
        }
      ]
    },
    {
      "cell_type": "markdown",
      "source": [
        "**Q.8  Implement a class Person with a class method to count the total number of persons created.**"
      ],
      "metadata": {
        "id": "VdmVLQpYi5gG"
      }
    },
    {
      "cell_type": "code",
      "source": [
        "class Person:\n",
        "    count = 0\n",
        "\n",
        "    def __init__(self, name):\n",
        "        self.name = name\n",
        "        Person.count += 1\n",
        "\n",
        "    @classmethod\n",
        "    def get_person_count(cls):\n",
        "        return cls.count\n",
        "\n",
        "p1 = Person(\"Alice\")\n",
        "p2 = Person(\"Bob\")\n",
        "p3 = Person(\"Charlie\")\n",
        "\n",
        "print(\"Total Persons Created:\", Person.get_person_count())\n"
      ],
      "metadata": {
        "colab": {
          "base_uri": "https://localhost:8080/"
        },
        "id": "LQYhxitPi_Kg",
        "outputId": "61b9f058-11da-473c-c345-07a548404da9"
      },
      "execution_count": null,
      "outputs": [
        {
          "output_type": "stream",
          "name": "stdout",
          "text": [
            "Total Persons Created: 3\n"
          ]
        }
      ]
    },
    {
      "cell_type": "markdown",
      "source": [
        "**Q.9  Write a class Fraction with attributes numerator and denominator. Override the str method to display the\n",
        "fraction as \"numerator/denominator\".**"
      ],
      "metadata": {
        "id": "C4myOuc1jV56"
      }
    },
    {
      "cell_type": "code",
      "source": [
        "class Fraction:\n",
        "    def __init__(self, numerator, denominator=1):\n",
        "        self.numerator = numerator\n",
        "        self.denominator = denominator\n",
        "\n",
        "    def __str__(self):\n",
        "        return f\"{self.numerator}/{self.denominator}\"\n",
        "frac = Fraction(3, 4)\n",
        "print(frac)"
      ],
      "metadata": {
        "colab": {
          "base_uri": "https://localhost:8080/"
        },
        "id": "7I5C5iowjbmv",
        "outputId": "a1f1f99f-18db-4862-c960-4e88bf8e06ea"
      },
      "execution_count": null,
      "outputs": [
        {
          "output_type": "stream",
          "name": "stdout",
          "text": [
            "3/4\n"
          ]
        }
      ]
    },
    {
      "cell_type": "markdown",
      "source": [
        "**Q.10  Demonstrate operator overloading by creating a class Vector and overriding the add method to add two\n",
        "vectors.**"
      ],
      "metadata": {
        "id": "Af8N2i5Gj97d"
      }
    },
    {
      "cell_type": "code",
      "source": [
        "class Vector:\n",
        "    def __init__(self, x, y):\n",
        "        self.x = x\n",
        "        self.y = y\n",
        "\n",
        "    def __add__(self, other):\n",
        "\n",
        "        return Vector(self.x + other.x, self.y + other.y)\n",
        "\n",
        "    def __str__(self):\n",
        "        return f\"({self.x}, {self.y})\"\n",
        "\n",
        "v1 = Vector(2, 3)\n",
        "v2 = Vector(4, 5)\n",
        "v3 = v1 + v2\n",
        "\n",
        "print(\"v1:\", v1)\n",
        "print(\"v2:\", v2)\n",
        "print(\"v1 + v2:\", v3)\n"
      ],
      "metadata": {
        "colab": {
          "base_uri": "https://localhost:8080/"
        },
        "id": "_n8TNEZskGwA",
        "outputId": "66de8e60-19e0-460e-80e5-9ca55b14b198"
      },
      "execution_count": null,
      "outputs": [
        {
          "output_type": "stream",
          "name": "stdout",
          "text": [
            "v1: (2, 3)\n",
            "v2: (4, 5)\n",
            "v1 + v2: (6, 8)\n"
          ]
        }
      ]
    },
    {
      "cell_type": "markdown",
      "source": [
        "**Q.11 Create a class Person with attributes name and age. Add a method greet() that prints \"Hello, my name is\n",
        "{name} and I am {age} years old.\"**"
      ],
      "metadata": {
        "id": "MNs7VLGEkdNz"
      }
    },
    {
      "cell_type": "code",
      "source": [
        "class Person:\n",
        "    def __init__(self, name, age):\n",
        "        self.name = name\n",
        "        self.age = age\n",
        "\n",
        "    def greet(self):\n",
        "        print(f\"Hello, My name is {self.name} and I am {self.age} years old.\")\n",
        "\n",
        "p1 = Person(\"pujan\", 21)\n",
        "p1.greet()\n"
      ],
      "metadata": {
        "colab": {
          "base_uri": "https://localhost:8080/"
        },
        "id": "qK22-bsrkz7e",
        "outputId": "085fb5e7-7f13-4087-fa8c-3a9ca32a61a8"
      },
      "execution_count": null,
      "outputs": [
        {
          "output_type": "stream",
          "name": "stdout",
          "text": [
            "Hello, My name is pujan and I am 21 years old.\n"
          ]
        }
      ]
    },
    {
      "cell_type": "markdown",
      "source": [
        "**Q.12  Implement a class Student with attributes name and grades. Create a method average_grade() to compute\n",
        "the average of the grades.**"
      ],
      "metadata": {
        "id": "luBBje4vlAyX"
      }
    },
    {
      "cell_type": "code",
      "source": [
        "class Student:\n",
        "    def __init__(self, name, grades):\n",
        "        self.name = name\n",
        "        self.grades = grades\n",
        "\n",
        "    def average_grade(self):\n",
        "        if not self.grades:\n",
        "            return 0\n",
        "        return sum(self.grades) / len(self.grades)\n",
        "\n",
        "student1 = Student(\"pujan\", [85, 90, 78, 92])\n",
        "print(f\"{student1.name}'s average grade is: {student1.average_grade():.2f}\")\n"
      ],
      "metadata": {
        "colab": {
          "base_uri": "https://localhost:8080/"
        },
        "id": "CkYDZtOHlHKH",
        "outputId": "20d8cd5b-12c6-40e7-afde-494689ab6b57"
      },
      "execution_count": null,
      "outputs": [
        {
          "output_type": "stream",
          "name": "stdout",
          "text": [
            "pujan's average grade is: 86.25\n"
          ]
        }
      ]
    },
    {
      "cell_type": "markdown",
      "source": [
        "**Q.13 Create a class Rectangle with methods set_dimensions() to set the dimensions and area() to calculate the\n",
        "area.**"
      ],
      "metadata": {
        "id": "0Xbqhyhlljc5"
      }
    },
    {
      "cell_type": "code",
      "source": [
        "class Rectangle:\n",
        "    def __init__(self):\n",
        "        self.length = 0\n",
        "        self.width = 0\n",
        "\n",
        "    def set_dimensions(self, length, width):\n",
        "        self.length = length\n",
        "        self.width = width\n",
        "\n",
        "    def area(self):\n",
        "        return self.length * self.width\n",
        "\n",
        "rect = Rectangle()\n",
        "rect.set_dimensions(5, 3)\n",
        "print(\"Area of rectangle:\", rect.area())\n"
      ],
      "metadata": {
        "colab": {
          "base_uri": "https://localhost:8080/"
        },
        "id": "s5jSPIeYl0PW",
        "outputId": "1ac378e8-fd49-4056-fb59-e817fb28b330"
      },
      "execution_count": null,
      "outputs": [
        {
          "output_type": "stream",
          "name": "stdout",
          "text": [
            "Area of rectangle: 15\n"
          ]
        }
      ]
    },
    {
      "cell_type": "markdown",
      "source": [
        "**Q.14 Create a class Employee with a method calculate_salary() that computes the salary based on hours worked\n",
        "and hourly rate. Create a derived class Manager that adds a bonus to the salary.**"
      ],
      "metadata": {
        "id": "q258s6X-l-8Y"
      }
    },
    {
      "cell_type": "code",
      "source": [
        "class Employee:\n",
        "    def __init__(self, name, hours_worked, hourly_rate):\n",
        "        self.name = name\n",
        "        self.hours_worked = hours_worked\n",
        "        self.hourly_rate = hourly_rate\n",
        "\n",
        "    def calculate_salary(self):\n",
        "        return self.hours_worked * self.hourly_rate\n",
        "\n",
        "\n",
        "class Manager(Employee):\n",
        "    def __init__(self, name, hours_worked, hourly_rate, bonus):\n",
        "        super().__init__(name, hours_worked, hourly_rate)\n",
        "        self.bonus = bonus\n",
        "\n",
        "    def calculate_salary(self):\n",
        "        base_salary = super().calculate_salary()\n",
        "        return base_salary + self.bonus\n",
        "\n",
        "employee = Employee(\"John Doe\", 40, 20)\n",
        "print(f\"Employee Salary: {employee.calculate_salary()}\")\n",
        "\n",
        "manager = Manager(\"Jane Smith\", 40, 30, 500)\n",
        "print(f\"Manager Salary: {manager.calculate_salary()}\")\n"
      ],
      "metadata": {
        "colab": {
          "base_uri": "https://localhost:8080/"
        },
        "id": "67mfLNArmj6I",
        "outputId": "fbd2d5fb-7515-4269-a69d-49466c7b4c46"
      },
      "execution_count": null,
      "outputs": [
        {
          "output_type": "stream",
          "name": "stdout",
          "text": [
            "Employee Salary: 800\n",
            "Manager Salary: 1700\n"
          ]
        }
      ]
    },
    {
      "cell_type": "markdown",
      "source": [
        "**Q.15 Create a class Product with attributes name, price, and quantity. Implement a method total_price() that\n",
        "calculates the total price of the product.**"
      ],
      "metadata": {
        "id": "kVZeITFSmEKt"
      }
    },
    {
      "cell_type": "code",
      "source": [
        "class Product:\n",
        "    def __init__(self, name, price, quantity):\n",
        "        self.name = name\n",
        "        self.price = price\n",
        "        self.quantity = quantity\n",
        "\n",
        "    def total_price(self):\n",
        "        return self.price * self.quantity\n",
        "\n",
        "product = Product(\"Laptop\", 999.99, 2)\n",
        "print(f\"Product: {product.name}\")\n",
        "print(f\"Total Price: {product.total_price():.2f}\")\n"
      ],
      "metadata": {
        "colab": {
          "base_uri": "https://localhost:8080/"
        },
        "id": "tPr-EEhlmv_O",
        "outputId": "f2a9971a-a3de-4928-d35f-8e54a2135b59"
      },
      "execution_count": null,
      "outputs": [
        {
          "output_type": "stream",
          "name": "stdout",
          "text": [
            "Product: Laptop\n",
            "Total Price: 1999.98\n"
          ]
        }
      ]
    },
    {
      "cell_type": "markdown",
      "source": [
        "**Q.16  Create a class Animal with an abstract method sound(). Create two derived classes Cow and Sheep that\n",
        "implement the sound() method.**"
      ],
      "metadata": {
        "id": "n6YYk1Q6nJ5j"
      }
    },
    {
      "cell_type": "code",
      "source": [
        "from abc import ABC, abstractmethod\n",
        "\n",
        "class Animal(ABC):\n",
        "    @abstractmethod\n",
        "    def sound(self):\n",
        "        pass\n",
        "\n",
        "class Cow(Animal):\n",
        "    def sound(self):\n",
        "        return \"Moo\"\n",
        "\n",
        "class Sheep(Animal):\n",
        "    def sound(self):\n",
        "        return \"Baa\"\n",
        "\n",
        "if __name__ == \"__main__\":\n",
        "    cow = Cow()\n",
        "    sheep = Sheep()\n",
        "\n",
        "    print(\"Cow says:\", cow.sound())\n",
        "    print(\"Sheep says:\", sheep.sound())\n"
      ],
      "metadata": {
        "colab": {
          "base_uri": "https://localhost:8080/"
        },
        "id": "G7j_ZSVdnlE8",
        "outputId": "c0bbb707-121b-4ca1-de64-80f31f3e151d"
      },
      "execution_count": null,
      "outputs": [
        {
          "output_type": "stream",
          "name": "stdout",
          "text": [
            "Cow says: Moo\n",
            "Sheep says: Baa\n"
          ]
        }
      ]
    },
    {
      "cell_type": "markdown",
      "source": [
        "**Q.17 Create a class Book with attributes title, author, and year_published. Add a method get_book_info() that\n",
        "returns a formatted string with the book's details.**"
      ],
      "metadata": {
        "id": "AB0mn-4cntWf"
      }
    },
    {
      "cell_type": "code",
      "source": [
        "class Book:\n",
        "    def __init__(self, title, author, year_published):\n",
        "        self.title = title\n",
        "        self.author = author\n",
        "        self.year_published = year_published\n",
        "\n",
        "    def get_book_info(self):\n",
        "        return f\"'{self.title}' by {self.author} (Published in {self.year_published})\"\n",
        "\n",
        "if __name__ == \"__main__\":\n",
        "    book1 = Book(\"Peer E Kaamil\", \"Umera Ahmed\", 1998)\n",
        "    print(book1.get_book_info())\n"
      ],
      "metadata": {
        "colab": {
          "base_uri": "https://localhost:8080/"
        },
        "id": "DiW_BzDdo3Yy",
        "outputId": "f3facb29-1fb4-418d-d215-6a5d267dd425"
      },
      "execution_count": null,
      "outputs": [
        {
          "output_type": "stream",
          "name": "stdout",
          "text": [
            "'Peer E Kaamil' by Umera Ahmed (Published in 1998)\n"
          ]
        }
      ]
    },
    {
      "cell_type": "markdown",
      "source": [
        "**Q.18 Create a class House with attributes address and price. Create a derived class Mansion that adds an\n",
        "attribute number_of_rooms.**"
      ],
      "metadata": {
        "id": "AskyPlbVpaXV"
      }
    },
    {
      "cell_type": "code",
      "source": [
        "class House:\n",
        "    def __init__(self, address, price):\n",
        "        self.address = address\n",
        "        self.price = price\n",
        "\n",
        "class Mansion(House):\n",
        "    def __init__(self, address, price, number_of_rooms):\n",
        "        super().__init__(address, price)\n",
        "        self.number_of_rooms = number_of_rooms\n",
        "\n",
        "if __name__ == \"__main__\":\n",
        "    my_mansion = Mansion(\"123 Luxury Lane\", 5000000, 10)\n",
        "    print(f\"Address: {my_mansion.address}\")\n",
        "    print(f\"Price: {my_mansion.price}\")\n",
        "    print(f\"Number of Rooms: {my_mansion.number_of_rooms}\")\n"
      ],
      "metadata": {
        "colab": {
          "base_uri": "https://localhost:8080/"
        },
        "id": "LOMobKcJppjS",
        "outputId": "5e4d1ffe-f35d-4226-dcca-4be878181a85"
      },
      "execution_count": null,
      "outputs": [
        {
          "output_type": "stream",
          "name": "stdout",
          "text": [
            "Address: 123 Luxury Lane\n",
            "Price: 5000000\n",
            "Number of Rooms: 10\n"
          ]
        }
      ]
    }
  ]
}