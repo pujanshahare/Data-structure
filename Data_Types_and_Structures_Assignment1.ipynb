{
  "nbformat": 4,
  "nbformat_minor": 0,
  "metadata": {
    "colab": {
      "provenance": []
    },
    "kernelspec": {
      "name": "python3",
      "display_name": "Python 3"
    },
    "language_info": {
      "name": "python"
    }
  },
  "cells": [
    {
      "cell_type": "markdown",
      "source": [
        "# Data Types and Structures - Questions\n",
        "\n",
        "---"
      ],
      "metadata": {
        "id": "lg8zjoyDCu39"
      }
    },
    {
      "cell_type": "markdown",
      "source": [
        "Q.1. What are data structures, and why are they important?\n",
        "\n",
        " - Data structures are organized ways to store and manage data. They're important because they allow for efficient access, manipulation, and storage of information, optimizing program performance.bold text\n",
        "\n",
        "\n",
        "Q.2. Explain the difference between mutable and immutable data types with examples?\n",
        "  - Mutable data types can be changed after creation (e.g., lists, dictionaries), while immutable data types cannot be changed after creation (e.g., integers, strings, tuples).\n",
        "\n",
        "\n",
        "Q.3. What are the main differences between lists and tuples in Python?\n",
        "  \n",
        "  - The main differences between lists and tuples in Python are:\n",
        "  * Mutability: Lists are mutable (changeable), while tuples are immutable (unchangeable).\n",
        "  * Syntax: Lists use square brackets [], while tuples use parentheses ().\n",
        "  * Use Case: Lists are used for collections of items that might change, while tuples are used for fixed collections of items or as dictionary keys.\n",
        "\n",
        "\n",
        "Q.4. Describe how dictionaries store data.\n",
        "\n",
        "  - Python dictionaries store data as key-value pairs using a hash table implementation.\n",
        "  \n",
        "  Here's a brief breakdown:\n",
        "  \n",
        "  * Key-Value Pairs: Each piece of data has a unique \"key\" that you use to access its associated \"value.\"\n",
        "  Hash Table: Dictionaries use a hash table internally. When you add a key-value pair, the key is \"hashed\" (transformed into a numerical hash code). This hash code is then used to determine where in memory to store the key-value pair.\n",
        "  \n",
        "  * Efficient Lookup: This hashing mechanism allows for very fast lookups of values given their keys, as it can quickly jump to the correct location in memory.\n",
        "  \n",
        "  * Unordered (pre-Python 3.7): Historically, dictionaries were unordered. From Python 3.7 onwards, they maintain insertion order.\n",
        "  Mutable: You can add, remove, and change key-value pairs after a dictionary is created.\n",
        "  \n",
        "  * Unique and Immutable Keys: Keys must be unique and immutable (like strings, numbers, or tuples) to ensure consistent hashing. Values can be of any data type and can be duplicated.\n",
        "\n",
        "\n",
        "Q.5. Why might you use a set instead of a list in pyhton?\n",
        "\n",
        "  - You'd use a set when:\n",
        "  * **bold text** You need unique items: Sets automatically remove duplicates.\n",
        "  * Order doesn't matter: Sets don't keep items in any specific order.\n",
        "  * You need to check for item existence quickly: Sets are very fast at this.\n",
        "  * You want to do math-like operations: Like finding common item (intersection) or differences.\n",
        "\n",
        "\n",
        "Q.6. What is a string in Python, and how is it different from list?\n",
        "  - A string is a sequence of characters (like letters, numbers, symbols).\n",
        "  It's different from a list because:\n",
        "  * Strings are immutable: You can't change individual characters in a string once it's made. You have to create a new string if you want to modify it.\n",
        "  * Lists are mutable: You can add, remove, or change items in a list after it's made.\n",
        "  * Strings hold characters: They are specifically for text.\n",
        "  * Lists can hold anything: They can store numbers, other lists, strings, etc.\n",
        "\n",
        "\n",
        "Q.7. How do tuples ensure data integrity in Python?\n",
        "\n",
        "  - Tuples ensure data integrity in Python because they are immutable.\n",
        "  This means once a tuple is created, its elements cannot be changed, added, or removed. This prevents accidental modification of the data they hold.\n",
        "\n",
        "\n",
        "Q.8. What is a hash table, and how does it relate to dictionaries in Python?\n",
        "\n",
        "  - A hash table is like a special storage system where you can find things super fast. It takes a \"key\" (like a word) and turns it into a short code, which tells it exactly where to put or find the \"value\" linked to that key.\n",
        "  Python dictionaries use hash tables behind the scenes. This is why dictionaries are incredibly fast at looking up values when you give them a key.\n",
        "\n",
        "\n",
        "Q.9. Can lists contain different data types in Python?\n",
        "\n",
        "  - Yes! Python lists can hold different data types in the same list. For example, a list could contain a number, a string, and even another list.\n",
        "\n",
        "\n",
        "Q.10. Explain why strings are immutable in Python.\n",
        "\n",
        "  - Strings are immutable in Python because you cannot change them after they are created. If you try to modify a character in a string, Python actually creates a brand new string with the changes, instead of altering the original one in memory.\n",
        "  \n",
        "  This makes strings reliable and safe, especially when shared between different parts of a program.\n",
        "\n",
        "\n",
        "Q.11. What advantages do dictionaries offer over lists for certain tasks?\n",
        "\n",
        "  - Dictionaries are better than lists when:\n",
        "  * Fast Lookups: You need to find a specific item very quickly by its name or label (the \"key\"), rather than searching through a numbered list.\n",
        "  \n",
        "  * Organized Data: You want to store data as pairs, where each piece of information has a clear label (like \"name\": \"Alice\", \"age\": 30). This makes the data easy to understand and work with.\n",
        "\n",
        "\n",
        "Q.12. Describe a scenario where using a tuple would be preferable over a list?\n",
        "\n",
        "  - You'd use a tuple when you have items that should never change, like a birth date (day, month, year).\n",
        "  * A tuple keeps these items locked together so they can't be accidentally altered.\n",
        "  * A list lets you change or remove items, which you wouldn't want for something fixed like a birth date.\n",
        "\n",
        "\n",
        "Q.13. How do sets handle duplicate values in Python?\n",
        "\n",
        "  - Sets automatically remove duplicates. If you try to add an item that's already there, the set just ignores it, ensuring every item is unique.\n",
        "\n",
        "\n",
        "Q.14. How does the “in” keyword work differently for lists and dictionaries?\n",
        "\n",
        "  - The \"in\" keyword checks:\n",
        "  * For lists: Does this thing (the item) exist in the list?\n",
        "  * Example: Is apple in [banana, apple]? Yes.\n",
        "  * For dictionaries: Does this label (the key) exist in the dictionary?\n",
        "  * Example: Is color in {\"fruit\": \"apple\", \"color\": \"red\"}? Yes. (It doesn't check for \"apple\" or \"red\" directly).\n",
        "\n",
        "\n",
        "Q.15. Can you modify the elements of a tuple? Explain why or why not.\n",
        "\n",
        "  - No, you cannot modify the elements of a tuple.\n",
        "  This is because tuples are immutable. Once a tuple is created, its contents are fixed in memory and cannot be changed, added, or removed. If you need to \"change\" a tuple, you actually have to create a brand new tuple with the desired modifications.\n",
        "\n",
        "\n",
        "Q.16. What is a nested dictionary, and give an example of its use case?\n",
        "\n",
        "  - You didn't provide a question or a topic for me to elaborate on! Please tell me what you'd like to know or what I should describe using \"short & simple words.\"\n",
        "\n",
        "\n",
        "Q.17. Describe the time complexity of accessing elements in a dictionary?\n",
        "\n",
        "  - The time complexity of accessing elements in a dictionary is, on average, O(1) (constant time).\n",
        "  This means that no matter how many items are in the dictionary, retrieving a value by its key generally takes the same amount of time.\n",
        "  \n",
        "  In the worst-case scenario, it can degrade to O(n) (linear time) if there are many hash collisions, but this is rare with well-designed hash functions.\n",
        "\n",
        "\n",
        "Q.18. In what situations are lists preferred over dictionaries?\n",
        "\n",
        "  - Lists are preferred over dictionaries when:\n",
        "  * Order matters: You need to maintain a specific sequence of items.\n",
        "  * Items are unique, or their repetition is significant, and you need to access them by position: You care about the first item, second item, etc.\n",
        "  * You don't need named labels for items: A simple collection of values is sufficient.\n",
        "\n",
        "\n",
        "Q.19. Why are dictionaries considered unordered, and how does that affect data retrieval?\n",
        "\n",
        "  - Why Dictionaries Were Unordered (Historically):\n",
        "  * Imagine a messy box of toys. You throw toys in, and when you want a specific toy, you just reach in and grab it by its name (the \"key\"). You don't care where it is in the box. Dictionaries were like that, optimized for finding things quickly by their name (key), not for remembering the order you put them in.\n",
        "  \n",
        "  How it Affected Data Retrieval (Historically):\n",
        "  * Because there was no fixed order, you couldn't say \"give me the 3rd toy.\" If you emptied the box and put the toys back, they might end up in a different order. So, you always had to ask for them by their name.\n",
        "  \n",
        "  What Changed (Python 3.7+):\n",
        "  * Now, in newer Python, dictionaries do remember the order you add items. So, if you list them out, they'll appear in that order. However, their main job is still to find things super fast using keys, not to be used like an ordered list.\n",
        "\n",
        "\n",
        "Q.20.  Explain the difference between a list and a dictionary in terms of data retrieval.\n",
        "\n",
        "  - Think of it like finding something in a real-world storage system:\n",
        "  * List (like a numbered list/shelf):\n",
        "  * How you find data: You ask for it by its position (e.g., \"give me the item at position 3,\" or \"the 2nd item\"). You need to know its number.\n",
        "  * Good for: When the order of things matters, and you know their exact place.\n",
        "  * Dictionary (like a labeled cabinet with drawers):\n",
        "  * How you find data: You ask for it by its name/label (the \"key,\" e.g., \"give me the 'address' information,\" or \"the data for 'John'\"). You don't care about its position, only its unique label.\n",
        "  * Good for: When you need to quickly find specific information using a descriptive name, not a number."
      ],
      "metadata": {
        "id": "gd4N8HuwDHE-"
      }
    },
    {
      "cell_type": "markdown",
      "source": [
        "# **Practical Questions**"
      ],
      "metadata": {
        "id": "jbg-syMIHDvx"
      }
    },
    {
      "cell_type": "markdown",
      "source": [
        "Q.1. Write a code to create a string with your name and print it."
      ],
      "metadata": {
        "id": "ON6lJ-sLHucq"
      }
    },
    {
      "cell_type": "code",
      "source": [
        "my_name = \"pujan\"\n",
        "print(my_name)"
      ],
      "metadata": {
        "colab": {
          "base_uri": "https://localhost:8080/"
        },
        "id": "HaCzMQ9OIHqu",
        "outputId": "655aaa55-2fe2-49b7-cea7-94fb3d354e45"
      },
      "execution_count": null,
      "outputs": [
        {
          "output_type": "stream",
          "name": "stdout",
          "text": [
            "pujan\n"
          ]
        }
      ]
    },
    {
      "cell_type": "markdown",
      "source": [
        "Q.2.  Write a code to find the length of the string \"Hello World\"."
      ],
      "metadata": {
        "id": "DF5QvlP0KMum"
      }
    },
    {
      "cell_type": "code",
      "source": [
        "my_string = \"Hello World\"\n",
        "length = len(my_string)\n",
        "print(length)"
      ],
      "metadata": {
        "colab": {
          "base_uri": "https://localhost:8080/"
        },
        "id": "yh7evfB2KWPT",
        "outputId": "247d3f5d-e351-4fe3-bc9f-dbab87b281ec"
      },
      "execution_count": null,
      "outputs": [
        {
          "output_type": "stream",
          "name": "stdout",
          "text": [
            "11\n"
          ]
        }
      ]
    },
    {
      "cell_type": "markdown",
      "source": [
        "Q.3. Write a code to slice the first 3 characters from the string \"Python Programming\"."
      ],
      "metadata": {
        "id": "Jde4Rg4QKvlu"
      }
    },
    {
      "cell_type": "code",
      "source": [
        "my_string = \"Python Programming\"\n",
        "first_three_chars = my_string[0:3] # or simply my_string[:3]\n",
        "print(first_three_chars)"
      ],
      "metadata": {
        "colab": {
          "base_uri": "https://localhost:8080/"
        },
        "id": "wnGF8m8PLE6a",
        "outputId": "a6e50923-0051-4d35-8b8f-306727b22bf3"
      },
      "execution_count": null,
      "outputs": [
        {
          "output_type": "stream",
          "name": "stdout",
          "text": [
            "Pyt\n"
          ]
        }
      ]
    },
    {
      "cell_type": "markdown",
      "source": [
        "Q.4. Write a code to convert the string \"hello\" to uppercase."
      ],
      "metadata": {
        "id": "Ag93FpqCMURw"
      }
    },
    {
      "cell_type": "code",
      "source": [
        "my_string = \"hello world\"\n",
        "uppercase_string = my_string.upper()\n",
        "print(uppercase_string)"
      ],
      "metadata": {
        "colab": {
          "base_uri": "https://localhost:8080/"
        },
        "id": "uIZN1OdwMkgT",
        "outputId": "db7e1cfe-2b49-4884-c078-0ee18a45ddcd"
      },
      "execution_count": null,
      "outputs": [
        {
          "output_type": "stream",
          "name": "stdout",
          "text": [
            "HELLO WORLD\n"
          ]
        }
      ]
    },
    {
      "cell_type": "markdown",
      "source": [
        "Q.5. Write a code to replace the word \"apple\" with \"orange\" in the string \"I like apple\"."
      ],
      "metadata": {
        "id": "CHKE4W1ANOu7"
      }
    },
    {
      "cell_type": "code",
      "source": [
        "my_string = \"I like grapes\"\n",
        "new_string = my_string.replace(\"grapes\", \"orange\")\n",
        "print(new_string)"
      ],
      "metadata": {
        "colab": {
          "base_uri": "https://localhost:8080/"
        },
        "id": "js6ewRHnNWaH",
        "outputId": "4c54f71c-9cb4-4515-d5a7-833810deb051"
      },
      "execution_count": null,
      "outputs": [
        {
          "output_type": "stream",
          "name": "stdout",
          "text": [
            "I like orange\n"
          ]
        }
      ]
    },
    {
      "cell_type": "markdown",
      "source": [
        "Q.6 Write a code to create a list with numbers 1 to 5 and print it."
      ],
      "metadata": {
        "id": "RsmvEQ4gN1dd"
      }
    },
    {
      "cell_type": "code",
      "source": [
        "my_list = [1, 2, 3, 4, 5]\n",
        "print(my_list)"
      ],
      "metadata": {
        "colab": {
          "base_uri": "https://localhost:8080/"
        },
        "id": "fjSYORVAOQdt",
        "outputId": "8db171b1-8d23-4923-f784-0573bfdf0866"
      },
      "execution_count": null,
      "outputs": [
        {
          "output_type": "stream",
          "name": "stdout",
          "text": [
            "[1, 2, 3, 4, 5]\n"
          ]
        }
      ]
    },
    {
      "cell_type": "markdown",
      "source": [
        "Q.7. Write a code to append the number 10 to the list [1, 2, 3, 4]."
      ],
      "metadata": {
        "id": "TBeHL08xOb8d"
      }
    },
    {
      "cell_type": "code",
      "source": [
        "my_list = [1, 2, 3, 4]\n",
        "my_list.append(10)\n",
        "print(my_list)"
      ],
      "metadata": {
        "colab": {
          "base_uri": "https://localhost:8080/"
        },
        "id": "zscxPqYNOof8",
        "outputId": "9bfeafaa-c0d1-4643-933b-2f2a0bfc2a1a"
      },
      "execution_count": null,
      "outputs": [
        {
          "output_type": "stream",
          "name": "stdout",
          "text": [
            "[1, 2, 3, 4, 10]\n"
          ]
        }
      ]
    },
    {
      "cell_type": "markdown",
      "source": [
        "Q.8. Write a code to remove the number 3 from the list [1, 2, 3, 4, 5]."
      ],
      "metadata": {
        "id": "kx2pEjeLPHCw"
      }
    },
    {
      "cell_type": "code",
      "source": [
        "my_list = [1, 2, 3, 4, 5]\n",
        "my_list.remove(3)\n",
        "print(my_list)"
      ],
      "metadata": {
        "colab": {
          "base_uri": "https://localhost:8080/"
        },
        "id": "pd_wmc0WPQsX",
        "outputId": "21433fbc-cf91-4d8a-dd1a-3ac38c2b8829"
      },
      "execution_count": null,
      "outputs": [
        {
          "output_type": "stream",
          "name": "stdout",
          "text": [
            "[1, 2, 4, 5]\n"
          ]
        }
      ]
    },
    {
      "cell_type": "markdown",
      "source": [
        "Q.9. Write a code to access the second element in the list ['a', 'b', 'c', 'd']."
      ],
      "metadata": {
        "id": "dKgfNePePj9B"
      }
    },
    {
      "cell_type": "code",
      "source": [
        "my_list = ['a', 'b', 'c', 'd']\n",
        "second_element = my_list[1] # Lists use 0-based indexing, so the second element is at index 1\n",
        "print(second_element)"
      ],
      "metadata": {
        "colab": {
          "base_uri": "https://localhost:8080/"
        },
        "id": "RAgtqO2uPoA_",
        "outputId": "5dca25b1-2538-4c11-cd2e-bde01dc678d6"
      },
      "execution_count": null,
      "outputs": [
        {
          "output_type": "stream",
          "name": "stdout",
          "text": [
            "b\n"
          ]
        }
      ]
    },
    {
      "cell_type": "markdown",
      "source": [
        "Q.10. Write a code to reverse the list [10, 20, 30, 40, 50]."
      ],
      "metadata": {
        "id": "zYfxAfasQE2v"
      }
    },
    {
      "cell_type": "code",
      "source": [
        "my_list = [10, 20, 30, 40, 50]\n",
        "my_list.reverse() # This reverses the list in-place\n",
        "print(my_list)"
      ],
      "metadata": {
        "colab": {
          "base_uri": "https://localhost:8080/"
        },
        "id": "gtGQqGCuQSGF",
        "outputId": "1c02eb58-1b7e-42cd-a2b6-32440bf9593d"
      },
      "execution_count": null,
      "outputs": [
        {
          "output_type": "stream",
          "name": "stdout",
          "text": [
            "[50, 40, 30, 20, 10]\n"
          ]
        }
      ]
    },
    {
      "cell_type": "markdown",
      "source": [
        "Q.11.  Write a code to create a tuple with the elements 100, 200, 300 and print it."
      ],
      "metadata": {
        "id": "MayZkmhAQx_S"
      }
    },
    {
      "cell_type": "code",
      "source": [
        "my_tuple = (100, 200, 300)\n",
        "print(my_tuple)"
      ],
      "metadata": {
        "colab": {
          "base_uri": "https://localhost:8080/"
        },
        "id": "h4H_Fc-aQ2RN",
        "outputId": "e0185c4b-0520-43a9-ae11-4bdfcf6fbac3"
      },
      "execution_count": null,
      "outputs": [
        {
          "output_type": "stream",
          "name": "stdout",
          "text": [
            "(100, 200, 300)\n"
          ]
        }
      ]
    },
    {
      "cell_type": "markdown",
      "source": [
        "Q.12. Write a code to access the second-to-last element of the tuple ('red', 'green', 'blue', 'yellow')."
      ],
      "metadata": {
        "id": "P2wgrWqtRI23"
      }
    },
    {
      "cell_type": "code",
      "source": [
        "my_tuple = ('red', 'green', 'blue', 'yellow')\n",
        "second_to_last_element = my_tuple[-2] # Negative indexing starts from the end, so -1 is the last, -2 is second to last\n",
        "print(second_to_last_element)"
      ],
      "metadata": {
        "colab": {
          "base_uri": "https://localhost:8080/"
        },
        "id": "lfKwFj2qRVKk",
        "outputId": "80831100-39b1-4a91-ca8d-3a81fc9add41"
      },
      "execution_count": null,
      "outputs": [
        {
          "output_type": "stream",
          "name": "stdout",
          "text": [
            "blue\n"
          ]
        }
      ]
    },
    {
      "cell_type": "markdown",
      "source": [
        "Q.13. Write a code to find the minimum number in the tuple (10, 20, 5, 15)."
      ],
      "metadata": {
        "id": "by_oTQK0RoAr"
      }
    },
    {
      "cell_type": "code",
      "source": [
        "my_tuple = (10, 20, 5, 15)\n",
        "minimum_number = min(my_tuple)\n",
        "print(minimum_number)"
      ],
      "metadata": {
        "colab": {
          "base_uri": "https://localhost:8080/"
        },
        "id": "DQbBEInQRz_L",
        "outputId": "a66c42c3-1f07-47ed-db54-5720ec125c32"
      },
      "execution_count": null,
      "outputs": [
        {
          "output_type": "stream",
          "name": "stdout",
          "text": [
            "5\n"
          ]
        }
      ]
    },
    {
      "cell_type": "markdown",
      "source": [
        "Q.14.  Write a code to find the index of the element \"cat\" in the tuple ('dog', 'cat', 'rabbit')."
      ],
      "metadata": {
        "id": "7a9VjJoTSTOj"
      }
    },
    {
      "cell_type": "code",
      "source": [
        "my_tuple = ('dog', 'cat', 'rabbit')\n",
        "index_of_cat = my_tuple.index('cat')\n",
        "print(index_of_cat)"
      ],
      "metadata": {
        "colab": {
          "base_uri": "https://localhost:8080/"
        },
        "id": "Irfo2EBFScbE",
        "outputId": "2fa23091-2964-49f6-fb3d-1ff2df692926"
      },
      "execution_count": null,
      "outputs": [
        {
          "output_type": "stream",
          "name": "stdout",
          "text": [
            "1\n"
          ]
        }
      ]
    },
    {
      "cell_type": "markdown",
      "source": [
        "Q.15. Write a code to create a tuple containing three different fruits and check if \"kiwi\" is in it."
      ],
      "metadata": {
        "id": "altRqh1lSzsM"
      }
    },
    {
      "cell_type": "code",
      "source": [
        "fruits_tuple = (\"apple\", \"banana\", \"orange\")\n",
        "is_kiwi_in_tuple = \"kiwi\" in fruits_tuple\n",
        "print(is_kiwi_in_tuple)"
      ],
      "metadata": {
        "colab": {
          "base_uri": "https://localhost:8080/"
        },
        "id": "Lm41mempS_PQ",
        "outputId": "ec9304b9-3adf-45be-ff8c-6a5f525f4e02"
      },
      "execution_count": null,
      "outputs": [
        {
          "output_type": "stream",
          "name": "stdout",
          "text": [
            "False\n"
          ]
        }
      ]
    },
    {
      "cell_type": "markdown",
      "source": [
        "Q.16. Write a code to create a set with the elements 'a', 'b', 'c' and print it."
      ],
      "metadata": {
        "id": "pLHGi3JpTe7C"
      }
    },
    {
      "cell_type": "code",
      "source": [
        "my_set = {'a', 'b', 'c'}\n",
        "print(my_set)"
      ],
      "metadata": {
        "colab": {
          "base_uri": "https://localhost:8080/"
        },
        "id": "sLBY63FhTpKz",
        "outputId": "0f410507-97c1-4d24-ec1f-fd30e69566be"
      },
      "execution_count": null,
      "outputs": [
        {
          "output_type": "stream",
          "name": "stdout",
          "text": [
            "{'a', 'b', 'c'}\n"
          ]
        }
      ]
    },
    {
      "cell_type": "markdown",
      "source": [
        "Q.17. Write a code to clear all elements from the set {1, 2, 3, 4, 5}."
      ],
      "metadata": {
        "id": "4ij3TT4bUJSn"
      }
    },
    {
      "cell_type": "code",
      "source": [
        "my_set = {1, 2, 3, 4, 5}\n",
        "my_set.clear()\n",
        "print(my_set)"
      ],
      "metadata": {
        "colab": {
          "base_uri": "https://localhost:8080/"
        },
        "id": "NNoRWewOUYMJ",
        "outputId": "3568edf0-20b8-433e-f620-c7d9a18f24ba"
      },
      "execution_count": null,
      "outputs": [
        {
          "output_type": "stream",
          "name": "stdout",
          "text": [
            "set()\n"
          ]
        }
      ]
    },
    {
      "cell_type": "markdown",
      "source": [
        "Q.18. Write a code to remove the element 4 from the set {1, 2, 3, 4}."
      ],
      "metadata": {
        "id": "kEu5ZB51UplO"
      }
    },
    {
      "cell_type": "code",
      "source": [
        "my_set = {1, 2, 3, 4}\n",
        "my_set.remove(4)\n",
        "print(my_set)"
      ],
      "metadata": {
        "colab": {
          "base_uri": "https://localhost:8080/"
        },
        "id": "Riu5W4H-WIgp",
        "outputId": "f779d3f7-7127-4b9e-b15e-595f9611262e"
      },
      "execution_count": null,
      "outputs": [
        {
          "output_type": "stream",
          "name": "stdout",
          "text": [
            "{1, 2, 3}\n"
          ]
        }
      ]
    },
    {
      "cell_type": "markdown",
      "source": [
        "Q.19. Write a code to find the union of two sets {1, 2, 3} and {3, 4, 5}."
      ],
      "metadata": {
        "id": "saYCsZg7Wh9K"
      }
    },
    {
      "cell_type": "code",
      "source": [
        "set1 = {1, 2, 3}\n",
        "set2 = {3, 4, 5}\n",
        "union_set = set1.union(set2) # Or set1 | set2\n",
        "print(union_set)"
      ],
      "metadata": {
        "colab": {
          "base_uri": "https://localhost:8080/"
        },
        "id": "tRztO6RHW4CE",
        "outputId": "ba8bc258-a40b-4ec6-900d-8f596f1ffebf"
      },
      "execution_count": null,
      "outputs": [
        {
          "output_type": "stream",
          "name": "stdout",
          "text": [
            "{1, 2, 3, 4, 5}\n"
          ]
        }
      ]
    },
    {
      "cell_type": "markdown",
      "source": [
        "Q.20. Write a code to find the intersection of two sets {1, 2, 3} and {2, 3, 4}."
      ],
      "metadata": {
        "id": "blnLrwABXMMa"
      }
    },
    {
      "cell_type": "code",
      "source": [
        "set1 = {1, 2, 3}\n",
        "set2 = {2, 3, 4}\n",
        "intersection_set = set1.intersection(set2) # Or set1 & set2\n",
        "print(intersection_set)"
      ],
      "metadata": {
        "colab": {
          "base_uri": "https://localhost:8080/"
        },
        "id": "3htWahpGXVl8",
        "outputId": "215dfda3-b51a-4d6e-be8c-af98a2345b36"
      },
      "execution_count": null,
      "outputs": [
        {
          "output_type": "stream",
          "name": "stdout",
          "text": [
            "{2, 3}\n"
          ]
        }
      ]
    },
    {
      "cell_type": "markdown",
      "source": [
        "Q.21. Write a code to create a dictionary with the keys \"name\", \"age\", and \"city\", and print it."
      ],
      "metadata": {
        "id": "TTgg2-64X4RX"
      }
    },
    {
      "cell_type": "code",
      "source": [
        "my_dict = {\n",
        "    \"name\": \"pujan\",\n",
        "    \"age\": 22,\n",
        "    \"city\": \"Tirora\"\n",
        "}\n",
        "print(my_dict)"
      ],
      "metadata": {
        "colab": {
          "base_uri": "https://localhost:8080/"
        },
        "id": "PpFJGzGnYHrX",
        "outputId": "720130a9-8f59-4634-8b8b-e7aa681fc4eb"
      },
      "execution_count": 2,
      "outputs": [
        {
          "output_type": "stream",
          "name": "stdout",
          "text": [
            "{'name': 'pujan', 'age': 22, 'city': 'Tirora'}\n"
          ]
        }
      ]
    },
    {
      "cell_type": "markdown",
      "source": [
        "Q.22. Write a code to add a new key-value pair \"country\": \"USA\" to the dictionary {'name': 'John', 'age': 25}"
      ],
      "metadata": {
        "id": "1y40n6JnY29J"
      }
    },
    {
      "cell_type": "code",
      "source": [
        "my_dict = {'name': 'John', 'age': 25}\n",
        "my_dict[\"country\"] = \"USA\"\n",
        "print(my_dict)"
      ],
      "metadata": {
        "colab": {
          "base_uri": "https://localhost:8080/"
        },
        "id": "t3WIeTY_ZV9x",
        "outputId": "f715cc1b-9725-49ad-978b-7aa2f3859bce"
      },
      "execution_count": null,
      "outputs": [
        {
          "output_type": "stream",
          "name": "stdout",
          "text": [
            "{'name': 'John', 'age': 25, 'country': 'USA'}\n"
          ]
        }
      ]
    },
    {
      "cell_type": "markdown",
      "source": [
        "Q.23. Write a code to access the value associated with the key \"name\" in the dictionary {'name': 'Alice', 'age': 30}"
      ],
      "metadata": {
        "id": "eeHL3H1MZpPN"
      }
    },
    {
      "cell_type": "code",
      "source": [
        "my_dict = {'name': 'Alice', 'age': 30}\n",
        "name_value = my_dict[\"name\"]\n",
        "print(name_value)"
      ],
      "metadata": {
        "colab": {
          "base_uri": "https://localhost:8080/"
        },
        "id": "nqF2-XuVZzih",
        "outputId": "9a6e1e73-d585-4ffb-9d8b-1454262f42ee"
      },
      "execution_count": null,
      "outputs": [
        {
          "output_type": "stream",
          "name": "stdout",
          "text": [
            "Alice\n"
          ]
        }
      ]
    },
    {
      "cell_type": "markdown",
      "source": [
        "Q.24. Write a code to remove the key \"age\" from the dictionary {'name': 'Bob', 'age': 22, 'city': 'New York'}."
      ],
      "metadata": {
        "id": "iEXjNC3avnb1"
      }
    },
    {
      "cell_type": "code",
      "source": [
        "my_dict = {'name': 'Bob', 'age': 22, 'city': 'New York'}\n",
        "\n",
        "# Method 1: Using del keyword\n",
        "del my_dict['age']\n",
        "print(my_dict)  # Output: {'name': 'Bob', 'city': 'New York'}"
      ],
      "metadata": {
        "colab": {
          "base_uri": "https://localhost:8080/"
        },
        "id": "iJ1J2BecwHnw",
        "outputId": "5c680103-d176-4949-9866-1e9ec55113c7"
      },
      "execution_count": null,
      "outputs": [
        {
          "output_type": "stream",
          "name": "stdout",
          "text": [
            "{'name': 'Bob', 'city': 'New York'}\n"
          ]
        }
      ]
    },
    {
      "cell_type": "code",
      "source": [
        "my_dict = {'name': 'Bob', 'age': 22, 'city': 'New York'}"
      ],
      "metadata": {
        "id": "398kZOoVwY0u"
      },
      "execution_count": null,
      "outputs": []
    },
    {
      "cell_type": "code",
      "source": [
        "# Method 2: Using pop() method\n",
        "my_dict.pop('age')\n",
        "print(my_dict)"
      ],
      "metadata": {
        "colab": {
          "base_uri": "https://localhost:8080/"
        },
        "id": "n5W-im7Uwg_k",
        "outputId": "151165b5-b2cf-4f67-8713-4863725d4b31"
      },
      "execution_count": null,
      "outputs": [
        {
          "output_type": "stream",
          "name": "stdout",
          "text": [
            "{'name': 'Bob', 'city': 'New York'}\n"
          ]
        }
      ]
    },
    {
      "cell_type": "markdown",
      "source": [
        "Q.25. Write a code to check if the key \"city\" exists in the dictionary {'name': 'Alice', 'city': 'Paris'}."
      ],
      "metadata": {
        "id": "DgtOu3Btxbst"
      }
    },
    {
      "cell_type": "code",
      "source": [
        "my_dict = {'name': 'Alice', 'city': 'Paris'}\n",
        "\n",
        "if \"city\" in my_dict:\n",
        "    print(\"Yes, 'city' is there.\")\n",
        "else:\n",
        "    print(\"No, 'city' is not there.\")"
      ],
      "metadata": {
        "colab": {
          "base_uri": "https://localhost:8080/"
        },
        "id": "jgDHtEPEx3pG",
        "outputId": "fbea3bd0-0866-45ee-e1ea-aa5996ed7a60"
      },
      "execution_count": null,
      "outputs": [
        {
          "output_type": "stream",
          "name": "stdout",
          "text": [
            "Yes, 'city' is there.\n"
          ]
        }
      ]
    },
    {
      "cell_type": "markdown",
      "source": [
        "Q.26. Write a code to create a list, a tuple, and a dictionary, and print them all."
      ],
      "metadata": {
        "id": "F8Itb3TVyKef"
      }
    },
    {
      "cell_type": "code",
      "source": [
        "my_list = [1, 2]\n",
        "my_tuple = (3, 4)\n",
        "my_dict = {\"a\": 5}\n",
        "\n",
        "print(my_list)\n",
        "print(my_tuple)\n",
        "print(my_dict)"
      ],
      "metadata": {
        "colab": {
          "base_uri": "https://localhost:8080/"
        },
        "id": "xuopD2N5y6BL",
        "outputId": "e4fc32de-836d-41eb-aeaa-ab8e1e143667"
      },
      "execution_count": null,
      "outputs": [
        {
          "output_type": "stream",
          "name": "stdout",
          "text": [
            "[1, 2]\n",
            "(3, 4)\n",
            "{'a': 5}\n"
          ]
        }
      ]
    },
    {
      "cell_type": "markdown",
      "source": [
        "Q.27. Write a code to create a list of 5 random numbers between 1 and 100, sort it in ascending order, and print the result.(replaced)"
      ],
      "metadata": {
        "id": "B1xPUOTPzkZj"
      }
    },
    {
      "cell_type": "code",
      "source": [
        "import random\n",
        "\n",
        "# Get 5 random numbers\n",
        "numbers = [random.randint(1, 100) for _ in range(5)]\n",
        "\n",
        "# Arrange them smallest to largest\n",
        "numbers.sort()\n",
        "\n",
        "# Show the numbers\n",
        "print(numbers)"
      ],
      "metadata": {
        "colab": {
          "base_uri": "https://localhost:8080/"
        },
        "id": "V70L2I6E0PkD",
        "outputId": "4fb1824f-7850-44ce-d822-c6bdcf866b9a"
      },
      "execution_count": null,
      "outputs": [
        {
          "output_type": "stream",
          "name": "stdout",
          "text": [
            "[2, 37, 43, 49, 85]\n"
          ]
        }
      ]
    },
    {
      "cell_type": "markdown",
      "source": [
        "Q.28. Write a code to create a list with strings and print the element at the third index."
      ],
      "metadata": {
        "id": "HGrkUrOu0_YW"
      }
    },
    {
      "cell_type": "code",
      "source": [
        "my_list = [\"apple\", \"banana\", \"cherry\", \"date\", \"elderberry\"]\n",
        "\n",
        "# Print the element at the third index (remembering that indexing starts at 0)\n",
        "print(my_list[3])"
      ],
      "metadata": {
        "colab": {
          "base_uri": "https://localhost:8080/"
        },
        "id": "F8uFVpAe1ios",
        "outputId": "52a2b348-2c8f-4bf3-a945-7e5fc667d83f"
      },
      "execution_count": null,
      "outputs": [
        {
          "output_type": "stream",
          "name": "stdout",
          "text": [
            "date\n"
          ]
        }
      ]
    },
    {
      "cell_type": "markdown",
      "source": [
        "Q.29. Write a code to combine two dictionaries into one and print the result."
      ],
      "metadata": {
        "id": "zjrtxffL1910"
      }
    },
    {
      "cell_type": "code",
      "source": [
        "dict1 = {'name': 'Swapnil', 'age': 25}\n",
        "dict2 = {'city': 'Khandala', 'occupation': 'Businessman'}\n",
        "\n",
        "# Combine the dictionaries\n",
        "combined_dict = {**dict1, **dict2}\n",
        "\n",
        "# Print the result\n",
        "print(combined_dict)"
      ],
      "metadata": {
        "colab": {
          "base_uri": "https://localhost:8080/"
        },
        "id": "ChQ-rMw12rex",
        "outputId": "96462d66-9552-4eca-e8e1-e2f507f3d4f8"
      },
      "execution_count": null,
      "outputs": [
        {
          "output_type": "stream",
          "name": "stdout",
          "text": [
            "{'name': 'Swapnil', 'age': 25, 'city': 'Khandala', 'occupation': 'Businessman'}\n"
          ]
        }
      ]
    },
    {
      "cell_type": "markdown",
      "source": [
        "Q.30. Write a code to convert a list of strings into a set."
      ],
      "metadata": {
        "id": "kibLXGKA3Ru-"
      }
    },
    {
      "cell_type": "code",
      "source": [
        "my_list = [\"apple\", \"banana\", \"cherry\", \"apple\", \"date\"]\n",
        "\n",
        "# Convert the list to a set\n",
        "my_set = set(my_list)\n",
        "\n",
        "# Print the result\n",
        "print(my_set)"
      ],
      "metadata": {
        "colab": {
          "base_uri": "https://localhost:8080/"
        },
        "id": "om_afaJw3jAl",
        "outputId": "198d0a14-50d0-4245-ef3e-fbf6b5566375"
      },
      "execution_count": null,
      "outputs": [
        {
          "output_type": "stream",
          "name": "stdout",
          "text": [
            "{'cherry', 'date', 'banana', 'apple'}\n"
          ]
        }
      ]
    }
  ]
}