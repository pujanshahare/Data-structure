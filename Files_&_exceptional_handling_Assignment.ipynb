{
  "nbformat": 4,
  "nbformat_minor": 0,
  "metadata": {
    "colab": {
      "provenance": []
    },
    "kernelspec": {
      "name": "python3",
      "display_name": "Python 3"
    },
    "language_info": {
      "name": "python"
    }
  },
  "cells": [
    {
      "cell_type": "markdown",
      "source": [
        "# **Files, exceptional handling, logging and memory management Questions :**"
      ],
      "metadata": {
        "id": "OwxexdRIV5a_"
      }
    },
    {
      "cell_type": "markdown",
      "source": [
        "**Q.1. What is the difference between interpreted and compiled languages?**\n",
        "  - The core difference between interpreted and compiled languages lies in when and how your human-readable code is turned into something the computer can understand.\n",
        "\n",
        "  * Compiled Languages: The entire program is translated into machine-readable code (an executable file) before it's run. Think of it like translating a whole book into another language before anyone starts reading it. This usually makes compiled programs run much faster. (Examples: C, C++, Java - though Java has a \"compile to bytecode\" then interpret step).\n",
        "  \n",
        "  * Interpreted Languages: The program is translated and executed line by line at the same time, as it's running. Imagine someone reading a book aloud, and as they read each sentence, they instantly translate it into another language for you. This makes development faster (no compilation step), but the execution can be slower. (Examples: Python, JavaScript, Ruby).\n",
        "\n",
        "**Q.2. What is exception handling in Python?**\n",
        "  - Exception handling in Python is a way to deal with unexpected errors that happen while your program is running, without crashing the entire program.\n",
        "  \n",
        "  Think of it like this:\n",
        "  * You write code that might cause a problem (e.g., trying to divide by zero, or opening a file that doesn't exist). You put this \"risky\" code in a try block.\n",
        "  \n",
        "  * If a problem does occur in the try block, Python \"raises an exception\" (it flags the error).\n",
        "  \n",
        "  * You then have an except block that \"catches\" that specific error and tells your program what to do instead (e.g., print an error message, try a different action).\n",
        "  \n",
        "  It helps make your programs more robust and user-friendly, so they don't just stop working when something goes wrong.\n",
        "\n",
        "**Q.3. What is the purpose of the finally block in exception handling?**\n",
        "  - The finally block in exception handling is for code that must run no matter what.\n",
        "  \n",
        "  Imagine you open a file in your try block. Even if an error happens while reading the file (and an except block catches it), or if no error happens at all, you still need to close that file. The finally block guarantees that the file closing code will execute, ensuring proper cleanup and preventing resource leaks.\n",
        "  \n",
        "  So, in short: It's for cleanup operations that always need to happen, regardless of whether an exception occurred or not.\n",
        "\n",
        "**Q.4.  What is logging in Python?**\n",
        "  - Logging in Python is like keeping a detailed diary of what your program is doing while it runs.\n",
        "  \n",
        "  Instead of just using print() statements (which show up in your console and disappear), the logging module lets you:\n",
        "  \n",
        "  * Record events: Track things like when a function starts, when data is processed, or when an error occurs.\n",
        "  \n",
        "  * Control where logs go: Send messages to the console, a file, or even over a network.\n",
        "  \n",
        "  * Filter messages by importance: You can set different \"levels\" (like DEBUG, INFO, WARNING, ERROR, CRITICAL) so you only see the most important messages when you need to.\n",
        "  \n",
        "  This is super helpful for debugging, monitoring how your program behaves, and troubleshooting issues, especially in larger or more complex applications.\n",
        "\n",
        "**Q.5. What is the significance of the __del__ method in Python?**\n",
        "  - The _del_ method in Python is a special method (often called a \"destructor\" or \"finalizer\") that gets called just before an object is destroyed and its memory is reclaimed by the Python garbage collector.\n",
        "  \n",
        "  Its primary significance is for cleanup operations that involve external resources. For example:\n",
        "  \n",
        "  * Closing open files: If your object manages a file, _del_ could ensure the file is closed even if the program finishes unexpectedly or the object goes out of scope.\n",
        "  \n",
        "  * Releasing network connections or database connections: Similar to files, these resources need to be properly closed to avoid leaks.\n",
        "  \n",
        "  * Freeing memory allocated by external C libraries: If your Python object interacts with C code that allocates memory, _del_ can be used to free that memory.\n",
        "  \n",
        "  **Important points:**\n",
        "  \n",
        "  * Not a true destructor: Unlike in some other languages (like C++), _del_ doesn't delete the object. It's called before the garbage collector actually removes the object from memory.\n",
        "  \n",
        "  * Unpredictable timing: You cannot guarantee when _del_ will be called. It depends on when the garbage collector decides to clean up the object. This makes it generally discouraged for critical resource management where precise timing is needed (e.g., use with statements for files, or explicit close() methods).\n",
        "  \n",
        "  * Last resort for cleanup: It's typically used as a last-resort cleanup mechanism for resources that Python's automatic garbage collection doesn't handle natively.\n",
        "\n",
        "Q.6. What is the difference between import and from ... import in Python?\n",
        "  - The difference between import and from ... import in Python is about how you access the contents of a module:\n",
        "  \n",
        "  * import module_name:\n",
        "\n",
        "  * Imports the entire module into your current scope.\n",
        "  * To use anything from that module, you must prefix it with the module name.\n",
        "   \n",
        "  * Example: import math\n",
        "    print(math.pi)\n",
        "    print(math.sqrt(25))\n",
        "    \n",
        "  * Analogy: You bring the whole toolbox into the room. When you need a wrench, you say \"toolbox's wrench.\"\n",
        "  \n",
        "  * from module_name import specific_item (or item1, item2):\n",
        "  * Imports only the specified specific_item (e.g., a function, class, or variable) directly into your current scope.\n",
        "  * You can then use specific_item directly without the module name prefix.\n",
        "  \n",
        "  * Example:\n",
        "    from math import pi, sqrt\n",
        "    print(pi)\n",
        "    print(sqrt(25))\n",
        "\n",
        "  * Analogy: You go to the toolbox, pick out just the wrench you need, and bring only that wrench into the room. You can then just say \"wrench.\"\n",
        "  \n",
        "  In short:\n",
        "  * import: Imports the whole module; you use module.item.\n",
        "  * from ... import: Imports specific items directly; you use item directly.\n",
        "  \n",
        "  The from ... import form is often used when you only need a few specific things from a module and want to avoid typing the module name repeatedly. However, it can lead to \"namespace pollution\" (where you have many names directly in your scope, potentially causing conflicts) if you import too many things or use from module import * (which is generally discouraged).\n",
        "\n",
        "**Q.7. How can you handle multiple exceptions in Python?**\n",
        "  - You can handle multiple exceptions in Python using:\n",
        "  \n",
        "  * Multiple except blocks:\n",
        "  \n",
        "  try:\n",
        "     # code that might raise exceptions\n",
        "  except ValueError:\n",
        "     # handle ValueError\n",
        "  except TypeError:\n",
        "     # handle TypeError\n",
        "  except Exception as e:\n",
        "     # handle any other exception\n",
        "\n",
        "  * A single except block with a tuple of exceptions:\n",
        "  \n",
        "  try:\n",
        "     # code that might raise exceptions\n",
        "  except (ValueError, TypeError) as e:\n",
        "     # handle both ValueError and TypeError\n",
        "\n",
        "**Q.8. What is the purpose of the with statement when handling files in Python?**\n",
        "  - The with statement in Python ensures that a file is automatically closed after you're done with it, even if errors occur. This prevents resource leaks and makes your code cleaner and safer.\n",
        "\n",
        "**Q.9. What is the difference between multithreading and multiprocessing?**\n",
        "  - Multithreading: Like having multiple chefs in one kitchen (process) sharing ingredients and tools. They can work on different parts of a meal concurrently, but they might need to wait for each other to use a specific tool (e.g., the oven). It's good for tasks that involve waiting (like downloading data).\n",
        "\n",
        "  Multiprocessing: Like having multiple chefs in separate kitchens (processes), each with their own ingredients and tools. They can cook completely independently and truly in parallel. It's great for tasks that require heavy computation and can be broken into independent parts.\n",
        "\n",
        "**Q.10. What are the advantages of using logging in a program?**\n",
        "  - Logging provides a detailed record of what your program is doing, which helps with:\n",
        "\n",
        "  * Debugging: Finding and fixing errors by seeing exactly what happened before a problem occurred.\n",
        "  * Monitoring: Understanding how your program is running, its performance, and user behavior.\n",
        "  * Troubleshooting: Diagnosing issues in deployed applications where a debugger isn't available.\n",
        "  * Auditing/Security: Tracking events for compliance, security breaches, or suspicious activity.\n",
        "  * Analysis: Gaining insights into program usage and trends.\n",
        "\n",
        "**Q.11. What is memory management in Python?**\n",
        "  - Memory management in Python is how Python automatically handles allocating space for your data (like variables and objects) and then freeing up that space when it's no longer needed.\n",
        "\n",
        "  It mainly uses:\n",
        "\n",
        "  * Reference Counting: It keeps track of how many \"references\" (variables pointing to) an object has. When that count drops to zero, the object is automatically marked for deletion.\n",
        "  \n",
        "  * Garbage Collection: This is a separate process that kicks in to clean up objects that reference counting can't catch (like circular references, where two objects refer to each other but nothing else points to them).\n",
        "\n",
        "  Essentially, Python takes care of memory so you don't have to manually allocate or deallocate it, making programming easier and reducing common memory errors.\n",
        "\n",
        "**Q.12. What are the basic steps involved in exception handling in Python?**\n",
        "   - The basic steps for exception handling in Python are:\n",
        "  \n",
        "  1. try block: Put the code that might cause an error inside this block.\n",
        "  \n",
        "  2. except block(s): If an error (exception) occurs in the try block, Python jumps to the except block. Here, you define what to do to handle the specific error (e.g., print an error message, log it, or try a different approach).\n",
        "  \n",
        "  3. else block (optional): This code runs only if no exception occurred in the try block.\n",
        "  \n",
        "  4. finally block (optional): This code always runs, whether an exception occurred or not. It's often used for cleanup tasks like closing files.\n",
        "\n",
        "**Q.13. Why is memory management important in Python?**\n",
        "  - Memory management in Python is crucial because it ensures your programs:\n",
        "\n",
        "  * Run efficiently: By reusing memory and freeing up unused space, it prevents your program from consuming too much RAM.\n",
        "  * Avoid errors: It prevents common issues like \"memory leaks\" (where your program slowly uses more and more memory, eventually crashing) and \"segmentation faults.\"\n",
        "  * Are stable: Good memory management contributes to a reliable program that doesn't unexpectedly slow down or crash.\n",
        "\n",
        " In short, it keeps your program running smoothly without you having to manually track and clean up memory.\n",
        "\n",
        "**Q.14. What is the role of try and except in exception handling?**\n",
        "  - 1. try: This block contains the code that might cause an error. Python will try to execute this code.\n",
        "  2. except: If an error (exception) does happen in the try block, Python immediately stops executing the try block and jumps to the except block. This block contains the code to handle that specific error gracefully, preventing your program from crashing.\n",
        "\n",
        "**Q.15. How does Python's garbage collection system work?**\n",
        "  - Python's garbage collection system automatically frees up memory used by objects that are no longer needed. It primarily works in two ways:\n",
        "\n",
        "  * Reference Counting: This is the main method. Every object has a counter that tracks how many variables or other objects are \"pointing\" to it. When an object's reference count drops to zero (meaning nothing is using it anymore), Python immediately reclaims that memory.\n",
        "\n",
        "  * Generational Garbage Collection (for circular references): Reference counting can't handle \"circular references\" (e.g., Object A points to Object B, and Object B points back to Object A, but nothing else points to A or B). For these cases, Python has a separate garbage collector that periodically scans for such cycles and reclaims their memory. It divides objects into \"generations\" (new, older, oldest) and checks newer objects more frequently, as they are more likely to become garbage sooner.\n",
        "\n",
        "**Q.16. What is the purpose of the else block in exception handling?**\n",
        "  - The else block in exception handling contains code that runs only if no exception occurred in the try block. It's useful for putting code that should execute only when the try block's operations were completely successful.\n",
        "\n",
        "**Q.17. What are the common logging levels in Python?**\n",
        "  - Python's logging module uses these common levels to categorize messages by their severity, from least to most severe:\n",
        "\n",
        "  * DEBUG: Detailed information, useful for developers when finding and fixing problems.\n",
        "  * INFO: Confirmation that things are working as expected.\n",
        "  * WARNING: Something unexpected happened, or a potential problem is on the horizon, but the program is still running fine.\n",
        "  * ERROR: The software couldn't perform a function due to a serious problem.\n",
        "  * CRITICAL: A very serious error, indicating the program might stop running or be unable to continue properly.\n",
        "\n",
        "**Q.18. What is the difference between os.fork() and multiprocessing in Python?**\n",
        "  - 1. os.fork(): This is a low-level function that directly calls the operating system's fork() system call. It creates an exact duplicate of the current process, including its memory and state. It's only available on Unix-like systems and can be tricky to use correctly, especially with multithreaded programs.\n",
        "\n",
        "  2. multiprocessing module: This is a higher-level, more Pythonic way to create and manage processes. It provides a more robust and portable API (works on Windows too) for parallel execution. It handles many of the complexities of process creation and communication for you, offering options like \"spawn\" (starts a fresh Python interpreter) or \"fork\" (on Unix, uses os.fork() internally but with more safeguards).\n",
        "\n",
        "  In essence: os.fork() is a direct, often unsafe, OS-level tool. multiprocessing is Python's user-friendly, safer, and cross-platform framework that might use os.fork() under the hood on some systems, but abstracts away its complexities.\n",
        "\n",
        "**Q.19. What is the importance of closing a file in Python?**\n",
        "  - Closing a file in Python is crucial for several reasons:\n",
        "\n",
        "  * Saves data: When you write to a file, data is often buffered in memory first. Closing the file ensures all buffered data is actually written to the disk, preventing data loss.\n",
        "  \n",
        "  * Frees up resources: Files consume limited system resources (like \"file handles\"). Not closing them can lead to resource leaks, eventually preventing your program or other programs from opening new files.\n",
        "\n",
        "  * Prevents corruption: If a program crashes while a file is open, the file could become corrupted. Closing it minimizes this risk.\n",
        "\n",
        "  * Releases locks: On some operating systems (like Windows), an open file might be \"locked,\" preventing other programs from accessing or modifying it. Closing the file releases this lock.\n",
        "\n",
        "**Q.20. What is the difference between file.read() and file.readline() in Python?**\n",
        "  - 1. file.read(): Reads the entire content of the file as a single string. If you provide an optional argument (e.g., file.read(10)), it will read that specific number of characters/bytes. This is generally not recommended for very large files as it loads everything into memory.\n",
        "\n",
        "  2. file.readline(): Reads just one single line from the file at a time, including the newline character (\\n) at the end of the line. Each subsequent call to readline() will read the next line. This is memory-efficient for large files as it processes them line by line.\n",
        "\n",
        "**Q.21. What is the logging module in Python used for?**\n",
        "  - The logging module in Python is used to record events and messages that occur while a program is running. It's like an automated diary for your code, helping you:\n",
        "  \n",
        "  * Debug: See step-by-step what your program did, helping you find errors.\n",
        "  * Monitor: Understand how your program is performing and identify potential issues.\n",
        "  * Analyze: Collect data for later analysis of program behavior and trends.\n",
        "  * Trace: Follow the flow of execution, especially in complex applications.\n",
        "\n",
        "  It allows you to categorize messages by severity (e.g., debug, info, warning, error) and send them to different destinations (e.g., console, file, network).\n",
        "\n",
        "**Q.22. What is the os module in Python used for in file handling?**\n",
        "  - The os module in Python is used for interacting with the operating system. In file handling, it provides functions to:\n",
        "\n",
        "  * Manipulate paths: Join path components (os.path.join), get directory names (os.path.dirname), get file extensions (os.path.splitext).\n",
        "  \n",
        "  * Check existence: See if a file or directory exists (os.path.exists).\n",
        "  \n",
        "  * Get file information: Get file size (os.path.getsize), last modified time (os.path.getmtime).\n",
        "  \n",
        "  * Manage directories: Create directories (os.mkdir, os.makedirs), change the current working directory (os.chdir), list directory contents (os.listdir).\n",
        "  \n",
        "  * Rename and delete files/directories: os.rename, os.remove, os.rmdir.\n",
        "\n",
        "  Essentially, it lets your Python program perform file and directory operations that are specific to the underlying operating system.\n",
        "\n",
        "**Q.23. What are the challenges associated with memory management in Python?**\n",
        "  - While Python's automatic memory management is a huge benefit, some challenges remain:\n",
        "\n",
        "  * Circular References: Objects that refer to each other in a loop can't be cleaned up by simple reference counting alone, requiring a more complex garbage collector. This can lead to temporary memory leaks if not handled effectively by the garbage collector.\n",
        "  \n",
        "  * Memory Footprint: Python often uses more memory than languages like C/C++ because it stores more information with each object and doesn't immediately release freed memory back to the operating system.\n",
        "\n",
        " * Global Interpreter Lock (GIL): In CPython (the standard Python implementation), the GIL prevents multiple threads from executing Python bytecode simultaneously. While not strictly a memory management challenge, it impacts how multi-threaded programs utilize CPU and memory, as true parallel execution of Python code is limited.\n",
        "\n",
        " * Lack of Direct Control: Developers have limited direct control over memory allocation and deallocation, which can be a challenge for highly optimized, memory-sensitive applications where fine-grained control is desired.\n",
        "\n",
        " * Performance Overhead of Garbage Collection: While mostly efficient, the garbage collection process can sometimes introduce brief pauses or performance hits, especially in memory-intensive applications.\n",
        "\n",
        "**Q.24. How do you raise an exception manually in Python?**\n",
        "  - You manually raise an exception in Python using the raise keyword.\n",
        "\n",
        "  You specify the type of exception (e.g., ValueError, TypeError, or a custom exception) and optionally a message:\n",
        "\n",
        "  # Raise a built-in exception\n",
        "  raise ValueError(\"This is an invalid value!\")\n",
        "\n",
        "  # Raise a custom exception (assuming MyError is defined)\n",
        "  # raise MyError(\"Something went wrong with my custom logic.\")\n",
        "\n",
        "**Q.25. Why is it important to use multithreading in certain applications?**\n",
        "  - Multithreading is important in applications where you want to:\n",
        "\n",
        "  * Keep the application responsive: For example, in a graphical user interface (GUI), a background thread can perform a lengthy task (like downloading a file) while the main thread keeps the interface interactive, preventing the program from \"freezing.\"\n",
        "\n",
        "  * Improve performance for I/O-bound tasks: When a program spends a lot of time waiting for things like network requests, disk reads/writes, or user input (I/O operations), multithreading allows other parts of the program to run concurrently during these wait times, making better use of the CPU.\n",
        "\n",
        "  * Handle multiple clients/requests simultaneously: Web servers often use multithreading to serve many users at once, with each request handled by a separate thread.\n",
        "\n",
        "  * Simplify program structure: For complex applications, breaking down independent tasks into separate threads can make the code easier to organize and manage."
      ],
      "metadata": {
        "id": "7u3Rca7cWZi8"
      }
    },
    {
      "cell_type": "markdown",
      "source": [
        "# **Files, exceptional handling, logging and memory management Practical Questions :**"
      ],
      "metadata": {
        "id": "cwmResHzm5yj"
      }
    },
    {
      "cell_type": "markdown",
      "source": [
        "**Q.1. How can you open a file for writing in Python and write a string to it?**"
      ],
      "metadata": {
        "id": "NqZk-emvnPCG"
      }
    },
    {
      "cell_type": "code",
      "source": [
        "# The 'with' statement opens the file and makes sure it's closed automatically\n",
        "with open('my_data.txt', 'w') as file:\n",
        "    file.write(\"This is the text I want to save.\")\n",
        "\n",
        "print(\"Text saved to my_data.txt!\")"
      ],
      "metadata": {
        "colab": {
          "base_uri": "https://localhost:8080/"
        },
        "id": "W1MoAiz3oVTu",
        "outputId": "4d8fae4b-1ef4-435a-9545-f322523746f9"
      },
      "execution_count": null,
      "outputs": [
        {
          "output_type": "stream",
          "name": "stdout",
          "text": [
            "Text saved to my_data.txt!\n"
          ]
        }
      ]
    },
    {
      "cell_type": "markdown",
      "source": [
        "  - Explanation:\n",
        "  * with open('my_data.txt', 'w') as file::\n",
        "  * open('my_data.txt', 'w'): This part tells Python to open a file named my_data.txt.\n",
        "  * If my_data.txt doesn't exist, Python will create it.\n",
        "  * The 'w' means \"write mode.\" If my_data.txt does exist, 'w' will clear all its existing content before writing.\n",
        "  * as file:: This gives the opened file a temporary name, file, which you'll use to interact with it.\n",
        "  * with ...:: This is a \"context manager.\" It's super important because it ensures that the file is automatically closed when you're done with it, even if your code runs into an error. This prevents problems like data not being saved or file corruption.\n",
        "  * file.write(\"This is the text I want to save.\"):\n",
        "  * This line simply takes the string inside the parentheses (\"This is the text I want to save.\") and writes it into the file you just opened."
      ],
      "metadata": {
        "id": "-qW5su9CphpE"
      }
    },
    {
      "cell_type": "markdown",
      "source": [
        "**Q.2. Write a Python program to read the contents of a file and print each line.**"
      ],
      "metadata": {
        "id": "l8VrwE-sp4Ua"
      }
    },
    {
      "cell_type": "code",
      "source": [
        "try:\n",
        "    with open('your_file.txt', 'r') as file:\n",
        "        for line in file:\n",
        "            print(line.strip()) # Print each line, removing extra spaces/newlines\n",
        "except FileNotFoundError:\n",
        "    print(\"Sorry, the file was not found.\")"
      ],
      "metadata": {
        "colab": {
          "base_uri": "https://localhost:8080/"
        },
        "id": "qoQth09DqsLi",
        "outputId": "14b07536-41a8-477a-824d-5d9371adc044"
      },
      "execution_count": null,
      "outputs": [
        {
          "output_type": "stream",
          "name": "stdout",
          "text": [
            "Sorry, the file was not found.\n"
          ]
        }
      ]
    },
    {
      "cell_type": "markdown",
      "source": [
        "**Q.3. How would you handle a case where the file doesn't exist while trying to open it for reading.**"
      ],
      "metadata": {
        "id": "c7wiLwILqwh5"
      }
    },
    {
      "cell_type": "code",
      "source": [
        "file_name = \"non_existent_file.txt\" # A file that likely doesn't exist\n",
        "\n",
        "try:\n",
        "    with open(file_name, 'r') as file:\n",
        "        content = file.read()\n",
        "        print(\"File content:\")\n",
        "        print(content)\n",
        "except FileNotFoundError:\n",
        "    print(f\"Error: The file '{file_name}' was not found.\")\n",
        "    print(\"Please check the file name and path.\")\n",
        "except Exception as e: # Catch any other unexpected errors\n",
        "    print(f\"An unexpected error occurred: {e}\")"
      ],
      "metadata": {
        "colab": {
          "base_uri": "https://localhost:8080/"
        },
        "id": "vJcyQGJdqvNj",
        "outputId": "974f27c4-d854-428e-db01-49934ab9d380"
      },
      "execution_count": null,
      "outputs": [
        {
          "output_type": "stream",
          "name": "stdout",
          "text": [
            "Error: The file 'non_existent_file.txt' was not found.\n",
            "Please check the file name and path.\n"
          ]
        }
      ]
    },
    {
      "cell_type": "markdown",
      "source": [
        "  - Explanation:\n",
        "  1. try:: You put the code that might cause an error (in this case, open(file_name, 'r')) inside the try block.\n",
        "  \n",
        "  2. except FileNotFoundError:: If Python tries to open non_existent_file.txt for reading and realizes it doesn't exist, it \"raises\" a FileNotFoundError. Instead of crashing, your program will then jump directly to this except block.\n",
        "\n",
        "  3. print(...) in except: Inside the except block, you write the code to handle the error gracefully - in this case, by printing a user-friendly error message.\n",
        "  \n",
        "  4. except Exception as e: (Optional but good practice): This broader except block catches any other unexpected errors that might occur during the file operation, providing a general error message."
      ],
      "metadata": {
        "id": "4PA5uap3rOPJ"
      }
    },
    {
      "cell_type": "markdown",
      "source": [
        "**Q.4. Write a Python script that reads from one file and writes its content to another file.**"
      ],
      "metadata": {
        "id": "1iH-noCAP0qC"
      }
    },
    {
      "cell_type": "code",
      "source": [
        "source_file = 'input.txt'\n",
        "destination_file = 'output.txt'\n",
        "\n",
        "try:\n",
        "    with open(source_file, 'r') as infile:\n",
        "        content = infile.read() # Read everything from the first file\n",
        "\n",
        "    with open(destination_file, 'w') as outfile:\n",
        "        outfile.write(content) # Write everything to the second file\n",
        "\n",
        "    print(f\"Content successfully copied from '{source_file}' to '{destination_file}'.\")\n",
        "\n",
        "except FileNotFoundError:\n",
        "    print(f\"Error: The file '{source_file}' was not found.\")\n",
        "except IOError as e:\n",
        "    print(f\"An I/O error occurred: {e}\")"
      ],
      "metadata": {
        "colab": {
          "base_uri": "https://localhost:8080/"
        },
        "id": "h0XEevVxrNGW",
        "outputId": "a5dbd903-74b4-4799-c65c-959b47bc9e2b"
      },
      "execution_count": null,
      "outputs": [
        {
          "output_type": "stream",
          "name": "stdout",
          "text": [
            "Error: The file 'input.txt' was not found.\n"
          ]
        }
      ]
    },
    {
      "cell_type": "markdown",
      "source": [
        "**Q.5. How would you catch and handle division by zero error in Python?**"
      ],
      "metadata": {
        "id": "W5Yj0wcPRm5K"
      }
    },
    {
      "cell_type": "code",
      "source": [
        "numerator = 10\n",
        "denominator = 0\n",
        "\n",
        "try:\n",
        "    result = numerator / denominator\n",
        "    print(f\"The result is: {result}\")\n",
        "except ZeroDivisionError:\n",
        "    print(\"Error: You cannot divide by zero!\")\n",
        "    print(\"Please make sure the denominator is not zero.\")\n",
        "except Exception as e:\n",
        "    # This catches any other unexpected errors\n",
        "    print(f\"An unexpected error occurred: {e}\")\n",
        "\n",
        "print(\"Program continues after handling the division.\")"
      ],
      "metadata": {
        "colab": {
          "base_uri": "https://localhost:8080/"
        },
        "id": "N8SZJWHoRd7Q",
        "outputId": "77161b6d-adb8-4eb2-a79c-0ec889698b40"
      },
      "execution_count": null,
      "outputs": [
        {
          "output_type": "stream",
          "name": "stdout",
          "text": [
            "Error: You cannot divide by zero!\n",
            "Please make sure the denominator is not zero.\n",
            "Program continues after handling the division.\n"
          ]
        }
      ]
    },
    {
      "cell_type": "markdown",
      "source": [
        "**Q.6. Write a Python program that logs an error message to a log file when a division by zero exception occurs.**"
      ],
      "metadata": {
        "id": "IQhpkQquSewN"
      }
    },
    {
      "cell_type": "code",
      "source": [
        "import logging\n",
        "\n",
        "# 1. Configure the logger to save errors to 'division_errors.log'\n",
        "logging.basicConfig(\n",
        "    filename='division_errors.log', # Name of the log file\n",
        "    level=logging.ERROR,          # Only log messages of ERROR level or higher\n",
        "    format='%(asctime)s - %(levelname)s - %(message)s' # Format for log entries\n",
        ")\n",
        "\n",
        "def safe_divide(a, b):\n",
        "    try:\n",
        "        result = a / b\n",
        "        print(f\"Result: {result}\")\n",
        "        return result\n",
        "    except ZeroDivisionError:\n",
        "        error_msg = f\"Attempted to divide {a} by zero.\"\n",
        "        logging.error(error_msg) # 2. Log the error\n",
        "        print(\"Error! Check 'division_errors.log' for details.\")\n",
        "        return None\n",
        "\n",
        "# Test cases\n",
        "safe_divide(10, 2)\n",
        "safe_divide(10, 0) # This will cause an error and log it\n",
        "safe_divide(5, 0)  # Another error case\n",
        "safe_divide(20, 4)\n",
        "\n",
        "print(\"\\nFinished. Check 'division_errors.log' file in this folder.\")"
      ],
      "metadata": {
        "colab": {
          "base_uri": "https://localhost:8080/"
        },
        "id": "Axl4XJChSSfP",
        "outputId": "35feebfd-1060-4a0b-e119-04778d8e8fc0"
      },
      "execution_count": null,
      "outputs": [
        {
          "output_type": "stream",
          "name": "stderr",
          "text": [
            "ERROR:root:Attempted to divide 10 by zero.\n",
            "ERROR:root:Attempted to divide 5 by zero.\n"
          ]
        },
        {
          "output_type": "stream",
          "name": "stdout",
          "text": [
            "Result: 5.0\n",
            "Error! Check 'division_errors.log' for details.\n",
            "Error! Check 'division_errors.log' for details.\n",
            "Result: 5.0\n",
            "\n",
            "Finished. Check 'division_errors.log' file in this folder.\n"
          ]
        }
      ]
    },
    {
      "cell_type": "markdown",
      "source": [
        "  - Explanation:\n",
        "  1. import logging: Brings in Python's built-in logging module.\n",
        "  \n",
        "  2. logging.basicConfig(...): This is a quick way to set up basic logging.\n",
        "  \n",
        "  * filename='division_errors.log': Tells Python to send log messages to this file.\n",
        "  \n",
        "  * level=logging.ERROR: Means it will only record messages that are ERROR level or higher (so INFO, DEBUG messages won't be saved here).\n",
        "  \n",
        "  * format=...: Defines how each line in the log file will look (e.g., 2025-07-14 01:09:32,123 - ERROR - Attempted to divide 10 by zero.).\n",
        "  \n",
        "  * try...except ZeroDivisionError::\n",
        "  \n",
        "  * The division a / b is in try.\n",
        "  \n",
        "  * If b is 0, a ZeroDivisionError happens, and the code jumps to except.\n",
        "  \n",
        "  * logging.error(error_msg): Inside the except block, this line sends the error_msg to the logger, which then writes it to division_errors.log because we configured it to do so for ERROR level messages.\n",
        "\n",
        "  This code sets up the logger once and then just calls logging.error() whenever a ZeroDivisionError occurs, making it very concise."
      ],
      "metadata": {
        "id": "npM9Zf6CU08a"
      }
    },
    {
      "cell_type": "markdown",
      "source": [
        "**Q.7. How do you log information at different levels (INFO, ERROR, WARNING) in Python using the logging module?**"
      ],
      "metadata": {
        "id": "NGyNamebVqtX"
      }
    },
    {
      "cell_type": "code",
      "source": [
        "import logging\n",
        "\n",
        "# Set up logging to show messages from INFO level and above\n",
        "logging.basicConfig(level=logging.INFO)\n",
        "\n",
        "# Log messages at different levels\n",
        "logging.debug(\"This won't show by default (level is INFO)\")\n",
        "logging.info(\"This is an INFO message.\")\n",
        "logging.warning(\"This is a WARNING.\")\n",
        "logging.error(\"This is an ERROR!\")\n",
        "logging.critical(\"This is CRITICAL!\")\n",
        "\n",
        "print(\"\\n(Check your console for output)\")"
      ],
      "metadata": {
        "colab": {
          "base_uri": "https://localhost:8080/"
        },
        "id": "AzcJoOxiUxEA",
        "outputId": "b6426b27-8f05-4322-9bba-85e94be480e5"
      },
      "execution_count": null,
      "outputs": [
        {
          "output_type": "stream",
          "name": "stderr",
          "text": [
            "WARNING:root:This is a WARNING.\n",
            "ERROR:root:This is an ERROR!\n",
            "CRITICAL:root:This is CRITICAL!\n"
          ]
        },
        {
          "output_type": "stream",
          "name": "stdout",
          "text": [
            "\n",
            "(Check your console for output)\n"
          ]
        }
      ]
    },
    {
      "cell_type": "markdown",
      "source": [
        "  - Explanation:\n",
        "  1. import logging: Gets the logging tools.\n",
        "  2. logging.basicConfig(level=logging.INFO): This single line sets up the logging system:\n",
        "     * It tells Python to display messages that are INFO level or higher (WARNING, ERROR, CRITICAL).\n",
        "     * By default, messages go to your console.\n",
        "  3. logging.debug(...), logging.info(...), etc.: These are the functions you call to create a log message at a specific severity level.\n",
        "  \n",
        "  When you run this, you'll see \"INFO\", \"WARNING\", \"ERROR\", and \"CRITICAL\" messages in your console, but the \"DEBUG\" message will be hidden because we set the Level to INFO."
      ],
      "metadata": {
        "id": "Ye8CE_utWs7j"
      }
    },
    {
      "cell_type": "markdown",
      "source": [
        "**Q.8. Write a program to handle a file opening error using exception handling.**"
      ],
      "metadata": {
        "id": "KVFM2XSiXcAe"
      }
    },
    {
      "cell_type": "code",
      "source": [
        "file_name = \"missing_file.txt\" # This file likely doesn't exist\n",
        "\n",
        "try:\n",
        "    with open(file_name, 'r') as file:\n",
        "        print(file.read())\n",
        "except FileNotFoundError:\n",
        "    print(f\"Error: '{file_name}' not found!\")"
      ],
      "metadata": {
        "colab": {
          "base_uri": "https://localhost:8080/"
        },
        "id": "Ld-m2PU8Wrco",
        "outputId": "8e34db12-d6c1-4778-aeb8-9049990bc4c3"
      },
      "execution_count": null,
      "outputs": [
        {
          "output_type": "stream",
          "name": "stdout",
          "text": [
            "Error: 'missing_file.txt' not found!\n"
          ]
        }
      ]
    },
    {
      "cell_type": "markdown",
      "source": [
        "  - Explanation:\n",
        "  1. try:: We attempt to open and read the file here.\n",
        "  2. except FileNotFoundError:: If the file isn't there, Python immediately jumps to this block.\n",
        "  3. print(...): We print a simple, clear error message, preventing the program from crashing."
      ],
      "metadata": {
        "id": "aGAD3Y1QYQ4X"
      }
    },
    {
      "cell_type": "markdown",
      "source": [
        "**Q.9. How can you read a file line by line and store its content in a list in Python?**"
      ],
      "metadata": {
        "id": "OEC2A1G9ZVek"
      }
    },
    {
      "cell_type": "markdown",
      "source": [
        "  You can read a file line by line and store its content in a list using the readlines() method or by simply iterating over the file object.\n",
        "\n",
        "  Method 1: Using readlines() (Most Direct)\n",
        "\n",
        "\n",
        "  - **Explanation :**\n",
        "\n",
        "  * file.readlines(): Reads all lines from the file at once and returns them as a list of strings. Each string in the list will include the newline character (\\n) at the end.\n",
        "\n",
        "  * line.strip(): Used in the optional list comprehension to remove the \\n characters."
      ],
      "metadata": {
        "id": "LEu8Ush1aDS7"
      }
    },
    {
      "cell_type": "code",
      "source": [
        "file_name = \"my_data.txt\"\n",
        "\n",
        "# Create a dummy file for demonstration\n",
        "with open(file_name, 'w') as f:\n",
        "    f.write(\"litchi\\n\")\n",
        "    f.write(\"Banana\\n\")\n",
        "    f.write(\"mango\")\n",
        "\n",
        "# Read file content into a list\n",
        "try:\n",
        "    with open(file_name, 'r') as file:\n",
        "        lines_list = file.readlines() # Reads all lines into a list\n",
        "    print(lines_list)\n",
        "\n",
        "    # Optional: Clean up newlines if desired\n",
        "    cleaned_list = [line.strip() for line in lines_list]\n",
        "    print(cleaned_list)\n",
        "\n",
        "except FileNotFoundError:\n",
        "    print(f\"Error: '{file_name}' not found.\")"
      ],
      "metadata": {
        "colab": {
          "base_uri": "https://localhost:8080/"
        },
        "id": "BKVAwxwrYPNg",
        "outputId": "896f9d37-f0ca-4a58-991f-508c9becb296"
      },
      "execution_count": null,
      "outputs": [
        {
          "output_type": "stream",
          "name": "stdout",
          "text": [
            "['litchi\\n', 'Banana\\n', 'mango']\n",
            "['litchi', 'Banana', 'mango']\n"
          ]
        }
      ]
    },
    {
      "cell_type": "markdown",
      "source": [
        "  - Method 2: Iterating over the file object (Memory Efficient)\n",
        "\n",
        "  - **Explanation :**\n",
        "\n",
        "  * for line in file:: Iterating directly over the file object reads one line at a time, making it very memory efficient for large files.\n",
        "  \n",
        "  * line.strip(): Again, removes the newline character."
      ],
      "metadata": {
        "id": "WIgfk2y0bE_Y"
      }
    },
    {
      "cell_type": "code",
      "source": [
        "file_name = \"my_data.txt\" # Using the same dummy file from above\n",
        "\n",
        "lines_list_iter = []\n",
        "try:\n",
        "    with open(file_name, 'r') as file:\n",
        "        for line in file: # Iterate line by line\n",
        "            lines_list_iter.append(line.strip()) # Add cleaned line to list\n",
        "    print(lines_list_iter)\n",
        "\n",
        "except FileNotFoundError:\n",
        "    print(f\"Error: '{file_name}' not found.\")"
      ],
      "metadata": {
        "colab": {
          "base_uri": "https://localhost:8080/"
        },
        "id": "5m3oBGMIazTE",
        "outputId": "084e4b0a-d93d-4157-d82b-cba8b5e00fb7"
      },
      "execution_count": null,
      "outputs": [
        {
          "output_type": "stream",
          "name": "stdout",
          "text": [
            "['litchi', 'Banana', 'mango']\n"
          ]
        }
      ]
    },
    {
      "cell_type": "markdown",
      "source": [
        "**Q.10. How can you append data to an existing file in Python?**"
      ],
      "metadata": {
        "id": "UXVIpS_vcpAs"
      }
    },
    {
      "cell_type": "code",
      "source": [
        "file_name = \"my_log.txt\"\n",
        "\n",
        "# Create file if it doesn't exist, or just clear it for fresh demo\n",
        "with open(file_name, 'w') as f:\n",
        "    f.write(\"Initial log entry.\\n\")\n",
        "\n",
        "# Now, append data\n",
        "with open(file_name, 'a') as file: # 'a' is for append\n",
        "    file.write(\"This is a new line, appended to the file.\\n\")\n",
        "    file.write(\"Another line just added.\\n\")\n",
        "\n",
        "print(f\"Data appended to '{file_name}'. Check the file content.\")\n",
        "\n",
        "# You can also read it to verify\n",
        "with open(file_name, 'r') as file:\n",
        "    print(\"\\n--- Current file content ---\")\n",
        "    print(file.read())"
      ],
      "metadata": {
        "colab": {
          "base_uri": "https://localhost:8080/"
        },
        "id": "ukqElsELcDUM",
        "outputId": "fc8eeb32-dfbd-4331-9a82-dd67bb6d3ed8"
      },
      "execution_count": null,
      "outputs": [
        {
          "output_type": "stream",
          "name": "stdout",
          "text": [
            "Data appended to 'my_log.txt'. Check the file content.\n",
            "\n",
            "--- Current file content ---\n",
            "Initial log entry.\n",
            "This is a new line, appended to the file.\n",
            "Another line just added.\n",
            "\n"
          ]
        }
      ]
    },
    {
      "cell_type": "markdown",
      "source": [
        "  - Explanation:\n",
        "  1. 'a' mode: When you use open(file_name, 'a'), Python opens the file.\n",
        "      * If the file exists, new data will be written at the end of the current content.\n",
        "      * If the file does not exist, Python will create it, and then write the data to it.\n",
        "  \n",
        "  2. file.write(): Works the same way as in write mode, but the content is added to the end.\n",
        "  \n",
        "  3. with statement: Still ensures the file is properly closed."
      ],
      "metadata": {
        "id": "fTkXvIhHdeBk"
      }
    },
    {
      "cell_type": "markdown",
      "source": [
        "**Q.11. Write a Python program that uses a try-except block to handle an error when attempting to access a dictionary key that doesn't exist.**"
      ],
      "metadata": {
        "id": "YdK4KGckd7cP"
      }
    },
    {
      "cell_type": "code",
      "source": [
        "my_dict = {\"name\": \"prachi\", \"age\": 19, \"city\": \"ghaziabad\"}\n",
        "\n",
        "key_to_find = \"country\" # This key does not exist in my_dict\n",
        "# key_to_find = \"name\"   # Uncomment this to see successful access\n",
        "\n",
        "try:\n",
        "    value = my_dict[key_to_find] # Try to access the key\n",
        "    print(f\"Value for '{key_to_find}': {value}\")\n",
        "except KeyError:\n",
        "    print(f\"Error: The key '{key_to_find}' was not found in the dictionary.\")\n",
        "    print(\"Please check if the key exists before trying to access it.\")\n",
        "except Exception as e: # Catch any other unexpected errors\n",
        "    print(f\"An unexpected error occurred: {e}\")\n",
        "\n",
        "print(\"\\nProgram finished gracefully.\")"
      ],
      "metadata": {
        "colab": {
          "base_uri": "https://localhost:8080/"
        },
        "id": "ndkKi91hexDC",
        "outputId": "3bc1df52-7448-454f-9275-4a41e4fd3160"
      },
      "execution_count": null,
      "outputs": [
        {
          "output_type": "stream",
          "name": "stdout",
          "text": [
            "Error: The key 'country' was not found in the dictionary.\n",
            "Please check if the key exists before trying to access it.\n",
            "\n",
            "Program finished gracefully.\n"
          ]
        }
      ]
    },
    {
      "cell_type": "markdown",
      "source": [
        "  - **Explanation :**\n",
        "\n",
        "  1. my_dict = {...}: Defines a sample dictionary.\n",
        "\n",
        "  2. key_to_find = \"country\": We intentionally set this to a key that doesn't exist to trigger the error.\n",
        "\n",
        "  3. try:: The code that might cause the KeyError (my_dict[key_to_find]) is placed inside this block.\n",
        "\n",
        "  4. except KeyError:: If Python tries to access a key that isn't there, it \"raises\" a KeyError. Instead of crashing, your program jumps directly to this except block.\n",
        "\n",
        "  5. print(...) in except: Inside this block, we print a user-friendly message explaining that the key wasn't found.\n",
        "\n",
        "  6. except Exception as e:: A general except block to catch any other unexpected errors, making the program more robust.\n",
        "\n",
        "  7. The program then continues execution after the try-except block."
      ],
      "metadata": {
        "id": "zGMmBI_zfDvM"
      }
    },
    {
      "cell_type": "markdown",
      "source": [
        "**Q.12. Write a program that demonstrates using multiple except blocks to handle different types of exceptions?**"
      ],
      "metadata": {
        "id": "YOQcwUz9gQ6j"
      }
    },
    {
      "cell_type": "code",
      "source": [
        "try:\n",
        "    # Change '0' to 'abc' to test TypeError/ValueError\n",
        "    # Change '2' to '0' to test ZeroDivisionError\n",
        "    x = 10 / 0 # This line causes an error\n",
        "\n",
        "except ZeroDivisionError:\n",
        "    print(\"Error: Divided by zero!\")\n",
        "except ValueError: # If you change x = int(\"abc\")\n",
        "    print(\"Error: Invalid conversion!\")\n",
        "except Exception as e:\n",
        "    print(f\"An unknown error occurred: {e}\")"
      ],
      "metadata": {
        "colab": {
          "base_uri": "https://localhost:8080/"
        },
        "id": "YVQfPPPnh1ZD",
        "outputId": "ae0ad9e3-7c23-40c6-b779-6c909fe22a82"
      },
      "execution_count": null,
      "outputs": [
        {
          "output_type": "stream",
          "name": "stdout",
          "text": [
            "Error: Divided by zero!\n"
          ]
        }
      ]
    },
    {
      "cell_type": "markdown",
      "source": [
        "  - **Explanation :**\n",
        "\n",
        "   * try:: Contains the single line that will cause an error based on what you put there.\n",
        "   \n",
        "   * except ZeroDivisionError:: Catches a division by zero.\n",
        "   \n",
        "   * except ValueError:: Catches if you try to convert something like \"abc\" to an integer.\n",
        "  \n",
        "   * except Exception as e:: Catches anything else, as a safety net.\n",
        "  Just change the x = 10 / 0 line to see how different except blocks get triggered."
      ],
      "metadata": {
        "id": "_odMoj5Ph4Li"
      }
    },
    {
      "cell_type": "markdown",
      "source": [
        "**Q.13. How would you check if a file exists before attempting to read it in Python?**"
      ],
      "metadata": {
        "id": "iRxyL9XoikVt"
      }
    },
    {
      "cell_type": "code",
      "source": [
        "import os\n",
        "\n",
        "file_name = \"report.txt\"\n",
        "\n",
        "if os.path.exists(file_name):\n",
        "    print(f\"'{file_name}' exists!\")\n",
        "else:\n",
        "    print(f\"'{file_name}' does NOT exist.\")\n",
        "\n",
        "# You could then open and read if it exists:\n",
        "# if os.path.exists(file_name):\n",
        "#     with open(file_name, 'r') as f:\n",
        "#         print(f.read())"
      ],
      "metadata": {
        "colab": {
          "base_uri": "https://localhost:8080/"
        },
        "id": "2Qy9MqrAh2fE",
        "outputId": "1d40040b-9f38-4d06-d1e0-802ffbf8aacd"
      },
      "execution_count": null,
      "outputs": [
        {
          "output_type": "stream",
          "name": "stdout",
          "text": [
            "'report.txt' does NOT exist.\n"
          ]
        }
      ]
    },
    {
      "cell_type": "markdown",
      "source": [
        "  - **Explanation :**\n",
        "\n",
        "  1. import os: Brings in the os module (Operating System utilities).\n",
        "  \n",
        "  2. os.path.exists(file_name): This function directly asks the operating system, \"Does an item (file or folder) with this file_name exist?\". It returns True or False.\n",
        "\n",
        "  3. if ... else: We use this to decide what to do based on whether the file exists or not."
      ],
      "metadata": {
        "id": "qFKb4KaCkdDT"
      }
    },
    {
      "cell_type": "markdown",
      "source": [
        "**  Simpler alternative (often preferred): Just try to open it!**\n",
        "\n",
        "  Often, in Python, it's simpler to just try to open the file and let Python tell you if it's missing (using a try-except block):"
      ],
      "metadata": {
        "id": "tB3uFunfkdAb"
      }
    },
    {
      "cell_type": "code",
      "source": [
        "try:\n",
        "    with open(\"another_report.txt\", 'r') as f:\n",
        "        print(f.read())\n",
        "except FileNotFoundError:\n",
        "    print(\"File not found! (Tried to open directly)\")"
      ],
      "metadata": {
        "colab": {
          "base_uri": "https://localhost:8080/"
        },
        "id": "Xr8jy20WkaIp",
        "outputId": "901d79fb-50ca-41fd-aee9-dfea30ec0443"
      },
      "execution_count": null,
      "outputs": [
        {
          "output_type": "stream",
          "name": "stdout",
          "text": [
            "File not found! (Tried to open directly)\n"
          ]
        }
      ]
    },
    {
      "cell_type": "markdown",
      "source": [
        "**Q.14. Write a program that uses the logging module to log both informational and error messages.**"
      ],
      "metadata": {
        "id": "cw_7x1penCwo"
      }
    },
    {
      "cell_type": "code",
      "source": [
        "import logging\n",
        "\n",
        "# Set up logging to show messages from INFO level and above\n",
        "logging.basicConfig(level=logging.INFO, format='%(levelname)s: %(message)s')\n",
        "\n",
        "logging.info(\"Program started successfully.\") # Informational message\n",
        "\n",
        "try:\n",
        "    result = 10 / 0 # This will cause a ZeroDivisionError\n",
        "    logging.info(f\"Calculation result: {result}\")\n",
        "except ZeroDivisionError:\n",
        "    logging.error(\"A division by zero error occurred!\") # Error message\n",
        "\n",
        "logging.info(\"Program finished.\") # Another informational message"
      ],
      "metadata": {
        "colab": {
          "base_uri": "https://localhost:8080/"
        },
        "id": "gKeh6aJJl3Bf",
        "outputId": "f887fd1b-e4fd-4996-b00c-84a98b87f381"
      },
      "execution_count": null,
      "outputs": [
        {
          "output_type": "stream",
          "name": "stderr",
          "text": [
            "ERROR:root:A division by zero error occurred!\n"
          ]
        }
      ]
    },
    {
      "cell_type": "markdown",
      "source": [
        "  - **Explanation :**\n",
        "  1. import logging: Gets the logging tools.\n",
        "  \n",
        "  2. logging.basicConfig(...): Sets up logging:\n",
        "    * level=logging.INFO: Tells it to show messages that are INFO level or  higher (INFO, WARNING, ERROR, CRITICAL).\n",
        "    * format='...': Makes the output clear (e.g., INFO: Program started successfully.).\n",
        "  \n",
        "  3. logging.info(...): Use this to record general status updates or successes.\n",
        "  \n",
        "  4. logging.error(...): Use this when something goes wrong.\n",
        "\n",
        "  When you run this, you'll see both the \"INFO\" messages and the \"ERROR\" message directly in your console. The basicConfig line ensures that both types of messages are visible."
      ],
      "metadata": {
        "id": "VHdxpQYaoAdu"
      }
    },
    {
      "cell_type": "markdown",
      "source": [
        "**Q.15. Write a Python program that prints the content of a file and handles the case when the file is empty.**"
      ],
      "metadata": {
        "id": "h7BMb3pOoyfy"
      }
    },
    {
      "cell_type": "code",
      "source": [
        "def print_file_or_empty(filename):\n",
        "    try:\n",
        "        with open(filename, 'r') as f:\n",
        "            content = f.read()\n",
        "            print(content if content else f\"'{filename}' is empty.\")\n",
        "    except FileNotFoundError:\n",
        "        print(f\"Error: '{filename}' not found.\")\n",
        "\n",
        "# Test it:\n",
        "# (You'll need to create these files manually or in code beforehand to test)\n",
        "# Create a file named 'hello.txt' with some text\n",
        "# Create an empty file named 'empty.txt'\n",
        "print_file_or_empty(\"hello.txt\")\n",
        "print_file_or_empty(\"empty.txt\")\n",
        "print_file_or_empty(\"non_existent.txt\")"
      ],
      "metadata": {
        "colab": {
          "base_uri": "https://localhost:8080/"
        },
        "id": "aoxhK4i4pg6M",
        "outputId": "4760b5ad-7707-47f0-af9e-e12a92224cc4"
      },
      "execution_count": null,
      "outputs": [
        {
          "output_type": "stream",
          "name": "stdout",
          "text": [
            "Error: 'hello.txt' not found.\n",
            "Error: 'empty.txt' not found.\n",
            "Error: 'non_existent.txt' not found.\n"
          ]
        }
      ]
    },
    {
      "cell_type": "markdown",
      "source": [
        "  - Explanation:\n",
        "\n",
        "  * with open(...): Safely opens the file.\n",
        "  \n",
        "  * content = f.read(): Reads all text. If the file is empty, content becomes \"\".\n",
        "\n",
        "  * print(content if content else ...): This is a Python \"ternary operator\".\n",
        "   * if content (meaning if content is not an empty string), then print(content).\n",
        "   * else (meaning content is an empty string), then print(f\"'{filename}' is empty.\").\n",
        "\n",
        "  * except FileNotFoundError:: Catches if the file simply doesn't exist."
      ],
      "metadata": {
        "id": "Qrprb9cmpj6k"
      }
    },
    {
      "cell_type": "markdown",
      "source": [
        "**Q.16. Demonstrate how to use memory profiling to check the memory usage of a small program.**"
      ],
      "metadata": {
        "id": "jNzAYxLUpj3u"
      }
    },
    {
      "cell_type": "code",
      "source": [
        "pip install memory_profiler"
      ],
      "metadata": {
        "id": "SRzMYP72piHB",
        "colab": {
          "base_uri": "https://localhost:8080/"
        },
        "outputId": "f8928bde-bc8e-46a4-8d34-d3f60a110ef7"
      },
      "execution_count": null,
      "outputs": [
        {
          "output_type": "stream",
          "name": "stdout",
          "text": [
            "Requirement already satisfied: memory_profiler in /usr/local/lib/python3.11/dist-packages (0.61.0)\n",
            "Requirement already satisfied: psutil in /usr/local/lib/python3.11/dist-packages (from memory_profiler) (5.9.5)\n"
          ]
        }
      ]
    },
    {
      "cell_type": "code",
      "source": [
        "# your_program.py\n",
        "from memory_profiler import profile\n",
        "\n",
        "@profile\n",
        "def my_function():\n",
        "    a = [i for i in range(1000000)] # A large list to show memory usage\n",
        "    b = {'key': 'value'}\n",
        "    c = \"hello world\" * 10000\n",
        "\n",
        "if __name__ == '__main__':\n",
        "   my_function()"
      ],
      "metadata": {
        "colab": {
          "base_uri": "https://localhost:8080/"
        },
        "id": "oPFZjEINRZiN",
        "outputId": "09379005-3203-499b-fe1c-e46df6509dd8"
      },
      "execution_count": null,
      "outputs": [
        {
          "output_type": "stream",
          "name": "stderr",
          "text": [
            "\n",
            "PYDEV DEBUGGER WARNING:\n",
            "sys.settrace() should not be used when the debugger is being used.\n",
            "This may cause the debugger to stop working correctly.\n",
            "If this is needed, please check: \n",
            "http://pydev.blogspot.com/2007/06/why-cant-pydev-debugger-work-with.html\n",
            "to see how to restore the debug tracing back correctly.\n",
            "Call Location:\n",
            "  File \"/usr/local/lib/python3.11/dist-packages/memory_profiler.py\", line 847, in enable\n",
            "    sys.settrace(self.trace_memory_usage)\n",
            "\n"
          ]
        },
        {
          "output_type": "stream",
          "name": "stdout",
          "text": [
            "ERROR: Could not find file /tmp/ipython-input-6-644460353.py\n"
          ]
        },
        {
          "output_type": "stream",
          "name": "stderr",
          "text": [
            "\n",
            "PYDEV DEBUGGER WARNING:\n",
            "sys.settrace() should not be used when the debugger is being used.\n",
            "This may cause the debugger to stop working correctly.\n",
            "If this is needed, please check: \n",
            "http://pydev.blogspot.com/2007/06/why-cant-pydev-debugger-work-with.html\n",
            "to see how to restore the debug tracing back correctly.\n",
            "Call Location:\n",
            "  File \"/usr/local/lib/python3.11/dist-packages/memory_profiler.py\", line 850, in disable\n",
            "    sys.settrace(self._original_trace_function)\n",
            "\n"
          ]
        }
      ]
    },
    {
      "cell_type": "markdown",
      "source": [
        "  - **To run it and get memory usage reports :**\n",
        "\n",
        "  python -m memory_profiler your_program.py\n",
        "\n",
        "  This will print a line-by-line memory usage breakdown for my_function directly in your console output."
      ],
      "metadata": {
        "id": "_Nz9UAaGSH-k"
      }
    },
    {
      "cell_type": "markdown",
      "source": [
        "**Q.17. Write a Python program to create and write a list of numbers to a file, one number per line.**"
      ],
      "metadata": {
        "id": "PoIbfcQfSv8J"
      }
    },
    {
      "cell_type": "code",
      "source": [
        "def process_numbers_file(filename=\"numbers.txt\"):\n",
        "    numbers = [10, 25, 30, 45, 60, 75, 90, 105, 120, 135]\n",
        "\n",
        "    # Write numbers to file\n",
        "    with open(filename, 'w') as f:\n",
        "        f.writelines(str(n) + '\\n' for n in numbers)\n",
        "    print(f\"Wrote numbers to '{filename}'\")\n",
        "\n",
        "    # Read and print numbers from file\n",
        "    print(f\"\\nNumbers from '{filename}':\")\n",
        "    with open(filename, 'r') as f:\n",
        "        for line in f:\n",
        "            print(int(line.strip()))\n",
        "\n",
        "if __name__ == \"__main__\":\n",
        "    process_numbers_file()"
      ],
      "metadata": {
        "colab": {
          "base_uri": "https://localhost:8080/"
        },
        "id": "v9MBVSmITfws",
        "outputId": "f4a8f3a7-6f14-49fc-853e-72309c6b797d"
      },
      "execution_count": null,
      "outputs": [
        {
          "output_type": "stream",
          "name": "stdout",
          "text": [
            "Wrote numbers to 'numbers.txt'\n",
            "\n",
            "Numbers from 'numbers.txt':\n",
            "10\n",
            "25\n",
            "30\n",
            "45\n",
            "60\n",
            "75\n",
            "90\n",
            "105\n",
            "120\n",
            "135\n"
          ]
        }
      ]
    },
    {
      "cell_type": "markdown",
      "source": [
        "**Q.18. How would you implement a basic logging setup that logs to a file with rotation after 1MB?**"
      ],
      "metadata": {
        "id": "YECUG59LUTjZ"
      }
    },
    {
      "cell_type": "code",
      "source": [
        "import logging\n",
        "from logging.handlers import RotatingFileHandler\n",
        "\n",
        "# Configure logger\n",
        "logger = logging.getLogger(__name__)\n",
        "logger.setLevel(logging.INFO)\n",
        "\n",
        "# Create and configure RotatingFileHandler\n",
        "handler = RotatingFileHandler('app.log', maxBytes=1*1024*1024, backupCount=5)\n",
        "formatter = logging.Formatter('%(asctime)s - %(levelname)s - %(message)s')\n",
        "handler.setFormatter(formatter)\n",
        "logger.addHandler(handler)\n",
        "\n",
        "# --- Logging Demonstration ---\n",
        "logger.info(\"Starting log demonstration.\")\n",
        "for i in range(10): # Adjust range to quickly exceed 1MB depending on message length\n",
        "    logger.info(f\"Log line {i}: This is some sample text to fill up the log file and trigger rotation.\")\n",
        "\n",
        "logger.info(\"Finished logging demonstration. Check 'app.log' and 'app.log.X' files.\")"
      ],
      "metadata": {
        "colab": {
          "base_uri": "https://localhost:8080/"
        },
        "id": "GmVxcsgWVDr6",
        "outputId": "081ff20a-615a-4c90-84e8-4bd80fe6defb"
      },
      "execution_count": null,
      "outputs": [
        {
          "output_type": "stream",
          "name": "stderr",
          "text": [
            "INFO:__main__:Starting log demonstration.\n",
            "INFO:__main__:Log line 0: This is some sample text to fill up the log file and trigger rotation.\n",
            "INFO:__main__:Log line 1: This is some sample text to fill up the log file and trigger rotation.\n",
            "INFO:__main__:Log line 2: This is some sample text to fill up the log file and trigger rotation.\n",
            "INFO:__main__:Log line 3: This is some sample text to fill up the log file and trigger rotation.\n",
            "INFO:__main__:Log line 4: This is some sample text to fill up the log file and trigger rotation.\n",
            "INFO:__main__:Log line 5: This is some sample text to fill up the log file and trigger rotation.\n",
            "INFO:__main__:Log line 6: This is some sample text to fill up the log file and trigger rotation.\n",
            "INFO:__main__:Log line 7: This is some sample text to fill up the log file and trigger rotation.\n",
            "INFO:__main__:Log line 8: This is some sample text to fill up the log file and trigger rotation.\n",
            "INFO:__main__:Log line 9: This is some sample text to fill up the log file and trigger rotation.\n",
            "INFO:__main__:Finished logging demonstration. Check 'app.log' and 'app.log.X' files.\n"
          ]
        }
      ]
    },
    {
      "cell_type": "markdown",
      "source": [
        "**Q.19. Write a program that handles both IndexError and KeyError using a try-except block.**"
      ],
      "metadata": {
        "id": "v0cBtkcHX_PI"
      }
    },
    {
      "cell_type": "code",
      "source": [
        "def access_and_handle(data, key_or_index):\n",
        "    \"\"\"\n",
        "    Attempts to access data and handles IndexError or KeyError.\n",
        "    \"\"\"\n",
        "    try:\n",
        "        value = data[key_or_index]\n",
        "        print(f\"Successfully accessed: {value}\")\n",
        "    except (IndexError, KeyError) as e:\n",
        "        print(f\"Error accessing data: {e} ({type(e).__name__})\")\n",
        "    except Exception as e:\n",
        "        print(f\"An unexpected error occurred: {e}\")\n",
        "\n",
        "# --- Demonstration ---\n",
        "my_list = [1, 2, 3]\n",
        "my_dict = {\"a\": 10, \"b\": 20}\n",
        "\n",
        "print(\"--- List Access ---\")\n",
        "access_and_handle(my_list, 1)    # Valid index\n",
        "access_and_handle(my_list, 5)    # IndexError\n",
        "\n",
        "print(\"\\n--- Dictionary Access ---\")\n",
        "access_and_handle(my_dict, \"a\")  # Valid key\n",
        "access_and_handle(my_dict, \"c\")  # KeyError\n",
        "\n",
        "print(\"\\n--- Mixed Type (will cause TypeError before reaching Index/KeyError) ---\")\n",
        "access_and_handle(my_list, \"x\") # This will typically raise a TypeError for lists"
      ],
      "metadata": {
        "colab": {
          "base_uri": "https://localhost:8080/"
        },
        "id": "ahby6IuKX8zN",
        "outputId": "b7c380f7-e476-4706-d68d-e351b3f0a64f"
      },
      "execution_count": null,
      "outputs": [
        {
          "output_type": "stream",
          "name": "stdout",
          "text": [
            "--- List Access ---\n",
            "Successfully accessed: 2\n",
            "Error accessing data: list index out of range (IndexError)\n",
            "\n",
            "--- Dictionary Access ---\n",
            "Successfully accessed: 10\n",
            "Error accessing data: 'c' (KeyError)\n",
            "\n",
            "--- Mixed Type (will cause TypeError before reaching Index/KeyError) ---\n",
            "An unexpected error occurred: list indices must be integers or slices, not str\n"
          ]
        }
      ]
    },
    {
      "cell_type": "markdown",
      "source": [
        "**Q.20. How would you open a file and read its contents using a context manager in Python?**"
      ],
      "metadata": {
        "id": "Mngd6FA4YlD6"
      }
    },
    {
      "cell_type": "code",
      "source": [
        "try:\n",
        "    with open('my_file.txt', 'r') as file:\n",
        "        content = file.read()\n",
        "        print(content)\n",
        "except FileNotFoundError:\n",
        "    print(\"Error: The file 'my_file.txt' was not found.\")\n",
        "except Exception as e:\n",
        "    print(f\"An error occurred: {e}\")"
      ],
      "metadata": {
        "colab": {
          "base_uri": "https://localhost:8080/"
        },
        "id": "EI-e8n_AYxBM",
        "outputId": "904673a5-f94f-4414-a952-8efa9e953d1b"
      },
      "execution_count": null,
      "outputs": [
        {
          "output_type": "stream",
          "name": "stdout",
          "text": [
            "Error: The file 'my_file.txt' was not found.\n"
          ]
        }
      ]
    },
    {
      "cell_type": "markdown",
      "source": [
        "**Q.21. Write a Python program that reads a file and prints the number of occurrences of a specific word.**"
      ],
      "metadata": {
        "id": "xiyWTEuEZCAq"
      }
    },
    {
      "cell_type": "code",
      "source": [
        "def count_word(filepath, word):\n",
        "    try:\n",
        "        with open(filepath, 'r') as f:\n",
        "            print(f\"'{word}' count: {f.read().lower().count(word.lower())}\")\n",
        "    except Exception as e:\n",
        "        print(f\"Error: {e}\")\n",
        "\n",
        "# Example Usage:\n",
        "# Create a dummy file\n",
        "with open(\"data.txt\", \"w\") as f:\n",
        "    f.write(\"Hello world, wonderful World!\\n\")\n",
        "    f.write(\"This world is amazing.\")\n",
        "\n",
        "count_word(\"data.txt\", \"world\")\n",
        "count_word(\"data.txt\", \"amazing\")\n",
        "count_word(\"nonexistent.txt\", \"test\")"
      ],
      "metadata": {
        "colab": {
          "base_uri": "https://localhost:8080/"
        },
        "id": "r9dsga1RY9JJ",
        "outputId": "92126f01-1440-40f3-a510-0bc6edbcd0b4"
      },
      "execution_count": null,
      "outputs": [
        {
          "output_type": "stream",
          "name": "stdout",
          "text": [
            "'world' count: 3\n",
            "'amazing' count: 1\n",
            "Error: [Errno 2] No such file or directory: 'nonexistent.txt'\n"
          ]
        }
      ]
    },
    {
      "cell_type": "markdown",
      "source": [
        "**Q.22. How can you check if a file is empty before attempting to read its contents?**"
      ],
      "metadata": {
        "id": "TCUfWEkoZ0x4"
      }
    },
    {
      "cell_type": "code",
      "source": [
        "import os\n",
        "\n",
        "def is_file_empty(path):\n",
        "    \"\"\"Returns True if file is empty, False if not, None on error.\"\"\"\n",
        "    try: return os.path.getsize(path) == 0\n",
        "    except: return None # Catches FileNotFoundError and others\n",
        "\n",
        "# --- Demo ---\n",
        "# Create files (if not exist)\n",
        "open(\"empty.txt\", \"w\").close()\n",
        "with open(\"not_empty.txt\", \"w\") as f: f.write(\"data\")\n",
        "\n",
        "files = [\"empty.txt\", \"not_empty.txt\", \"nonexistent.txt\"]\n",
        "\n",
        "for fpath in files:\n",
        "    status = is_file_empty(fpath)\n",
        "    print(f\"'{fpath}' empty? {status}\")\n",
        "    if status is False: # If not empty and exists\n",
        "        with open(fpath) as f: print(f\"  Content: '{f.read()}'\")"
      ],
      "metadata": {
        "colab": {
          "base_uri": "https://localhost:8080/"
        },
        "id": "vQot_mpCZm76",
        "outputId": "1ee41a71-1c25-4ee1-8714-ac26e9702d28"
      },
      "execution_count": null,
      "outputs": [
        {
          "output_type": "stream",
          "name": "stdout",
          "text": [
            "'empty.txt' empty? True\n",
            "'not_empty.txt' empty? False\n",
            "  Content: 'data'\n",
            "'nonexistent.txt' empty? None\n"
          ]
        }
      ]
    },
    {
      "cell_type": "markdown",
      "source": [
        "**Q.23. Write a Python program that writes to a log file when an error occurs during file handling.**"
      ],
      "metadata": {
        "id": "oHWgc2ouaoXB"
      }
    },
    {
      "cell_type": "code",
      "source": [
        "import logging\n",
        "\n",
        "# Configure logger\n",
        "logging.basicConfig(\n",
        "    filename='error.log',\n",
        "    level=logging.ERROR,\n",
        "    format='%(asctime)s - %(levelname)s - %(message)s'\n",
        ")\n",
        "\n",
        "def try_file_op(filepath, mode='r'):\n",
        "    try:\n",
        "        with open(filepath, mode) as f:\n",
        "            print(f\"'{filepath}' accessed successfully in '{mode}' mode.\")\n",
        "            if mode == 'r': f.read() # Read to avoid \"unused f\" warning\n",
        "    except Exception as e:\n",
        "        logging.error(f\"File handling error for '{filepath}' ({mode} mode): {e}\")\n",
        "        print(f\"Error accessing '{filepath}'. Check error.log.\")\n",
        "\n",
        "# --- Demo ---\n",
        "try_file_op(\"output.txt\", 'w')       # Should succeed\n",
        "try_file_op(\"output.txt\", 'r')       # Should succeed\n",
        "try_file_op(\"no_such_file.txt\", 'r') # Should log FileNotFoundError\n",
        "# try_file_op(\"/root/no_permission.txt\", 'w') # Will log PermissionError on Linux"
      ],
      "metadata": {
        "colab": {
          "base_uri": "https://localhost:8080/"
        },
        "id": "EH0AuQasaiR6",
        "outputId": "9f703685-d7d0-4617-bf1c-d7978b22bb02"
      },
      "execution_count": null,
      "outputs": [
        {
          "output_type": "stream",
          "name": "stderr",
          "text": [
            "ERROR:root:File handling error for 'no_such_file.txt' (r mode): [Errno 2] No such file or directory: 'no_such_file.txt'\n"
          ]
        },
        {
          "output_type": "stream",
          "name": "stdout",
          "text": [
            "'output.txt' accessed successfully in 'w' mode.\n",
            "'output.txt' accessed successfully in 'r' mode.\n",
            "Error accessing 'no_such_file.txt'. Check error.log.\n"
          ]
        }
      ]
    }
  ]
}